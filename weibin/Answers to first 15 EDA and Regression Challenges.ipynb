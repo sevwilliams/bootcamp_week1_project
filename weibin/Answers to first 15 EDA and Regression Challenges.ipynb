{
 "cells": [
  {
   "cell_type": "markdown",
   "metadata": {},
   "source": [
    "# Exploratory Data Analysis , Regression, Data Wrangling and Visualization Challenges\n",
    "\n",
    "We are going to explore some of this movie data. It comes from two\n",
    "separate sources, boxofficemojo.com and metacritic.com. The data is\n",
    "stored in files under directories related to these sources. The data\n",
    "for each movie is stored in its own file."
   ]
  },
  {
   "cell_type": "markdown",
   "metadata": {},
   "source": [
    "#### Challenge 1\n",
    "\n",
    "**First of all, before you do any of these challenges, start a *eda-and-reg* branch in your repository if you haven't done so already.** You will commit the additions you make while solving these challenges to that branch. In the end, you will submit your work by making a pull request.\n",
    "\n",
    "\n",
    "Start a new ipython notebook in the `project_1` directory. We will read the\n",
    "data from the boxofficemojo files. The files are in json format, which\n",
    "is a way to serialize key-value pairs. It looks exactly like how\n",
    "python shows the contents of a dictionary. For example,\n",
    "\n",
    "    {\"Ryan Gosling\": 9,\n",
    "    \"George Clooney\": 8,\n",
    "    \"Irmak Sirer\": 11}\n",
    "\n",
    "is a valid json format. (It can be more complex than that, for example\n",
    "the values might be nested lists, or more dictionaries, etc.)\n",
    "Import the `os` module to be able to modify/access filesystem\n",
    "commands, and the `json` module so we can parse these.\n",
    "\n",
    "    import os\n",
    "    import json\n",
    "\n",
    "the relative path to the data directory (since you are already in the\n",
    "`project_1` directory) is defined as `data/boxofficemojo/` in a Mac (or\n",
    "linux) system, and as `data\\boxofficemojo\\` in a Windows\n",
    "system. However, you don't need to know on what kind of system this\n",
    "will be run if you use the `os` module:\n",
    "\n",
    "    DATA_DIR = os.path.join('data', 'boxofficemojo')\n",
    "\n",
    "will put the correct path in `DATA_DIR`. `os.path.join` basically\n",
    "combines elements of a path in the correct way for the system.\n",
    "\n",
    "Let's say we know the filename to a specific file:\n",
    "`mojo_bladerunner.json`. You can get the path to it with\n",
    "\n",
    "    target_file_name = 'mojo_bladerunner.json'\n",
    "    target_file_path = os.path.join(DATA_DIR, target_file_name)\n",
    "\n",
    "Once a file is opened for reading, the `load` function from the `json`\n",
    "module will convert this string into a python dictionary:\n",
    "\n",
    "    with open(target_file_path, 'r') as target_file:\n",
    "        movie = json.load(target_file)\n",
    "\n",
    "Now `movie` is a dictionary. You can look at its contents with `print\n",
    "movie`, but a more readable pretty-print format is provided by the\n",
    "`pprint` module:\n",
    "\n",
    "    from pprint import pprint\n",
    "    pprint(movie)\n",
    "\n",
    "will show you the contents in a neatly organized way. You can learn\n",
    "more about each field in the README file within the data folder.\n",
    "\n",
    "You initial challenge is to make a single list of movies. Every\n",
    "single movie in that boxofficemojo directory should be a dictionary in this list. There is a single json file for each movie. Read all this information into a python dictionary, and put the dictionary into the list. When you do this for every movie, you will end up with one big list.\n",
    "Call this list `movies`. How many movies are there?\n",
    "\n",
    "Final hint: The `listdir` function from `os`  gives you a list of all\n",
    "filenames in a given directory."
   ]
  },
  {
   "cell_type": "code",
   "execution_count": 1,
   "metadata": {
    "collapsed": true
   },
   "outputs": [],
   "source": [
    "import os\n",
    "import json\n",
    "import pprint\n",
    "import numpy as np"
   ]
  },
  {
   "cell_type": "code",
   "execution_count": 2,
   "metadata": {
    "collapsed": true
   },
   "outputs": [],
   "source": [
    "# CURRENT_DIR = os.path.dirname(os.path.realpath(__file__))\n",
    "CURRENT_DIR = os.getcwd()\n",
    "DATA_DIR = os.path.abspath(os.path.join(CURRENT_DIR, 'data'))\n",
    "MOJO_DIR = os.path.join(DATA_DIR, 'boxofficemojo')"
   ]
  },
  {
   "cell_type": "code",
   "execution_count": 3,
   "metadata": {
    "collapsed": false
   },
   "outputs": [
    {
     "data": {
      "text/plain": [
       "'/Users/jwesley/ipyntbks/cap1/challenges/challenge_1/data/boxofficemojo'"
      ]
     },
     "execution_count": 3,
     "metadata": {},
     "output_type": "execute_result"
    }
   ],
   "source": [
    "MOJO_DIR"
   ]
  },
  {
   "cell_type": "code",
   "execution_count": 4,
   "metadata": {
    "collapsed": true
   },
   "outputs": [],
   "source": [
    "def get_boxofficemojo_movies():\n",
    "    file_contents = os.listdir(MOJO_DIR)\n",
    "\n",
    "    movie_list = []\n",
    "\n",
    "    for filename in file_contents:\n",
    "        filepath = os.path.join(MOJO_DIR, filename)\n",
    "\n",
    "        with open(filepath, 'r') as movie_file:\n",
    "            movie_data = json.load(movie_file)\n",
    "\n",
    "        movie_list.append(movie_data)\n",
    "\n",
    "    print \"Parsed %i movies from %i files\" % (len(movie_list),\n",
    "                                              len(file_contents))\n",
    "    return movie_list"
   ]
  },
  {
   "cell_type": "code",
   "execution_count": 5,
   "metadata": {
    "collapsed": false
   },
   "outputs": [
    {
     "name": "stdout",
     "output_type": "stream",
     "text": [
      "Parsed 3728 movies from 3728 files\n"
     ]
    }
   ],
   "source": [
    "movies = get_boxofficemojo_movies()"
   ]
  },
  {
   "cell_type": "markdown",
   "metadata": {},
   "source": [
    "# 3728 movies."
   ]
  },
  {
   "cell_type": "markdown",
   "metadata": {},
   "source": [
    "#### Challenge 2\n",
    "\n",
    "What years are the movies from? Are they mostly recent? How far back\n",
    "do they go? In a new cell, make a list of years in the\n",
    "dataset. Extract the year field and put the year value for each movie\n",
    "into a single list. Let's call this list `movie_years`. Now we want to\n",
    "count the years. What we want is something like a dictionary, with\n",
    "each year as a key, and the corresponding value is the number of\n",
    "movies from that year in the dataset.\n",
    "\n",
    "Hint: Check out the `Counter` class from the `collections` module. You\n",
    "don't have to use it but it makes things pretty easy."
   ]
  },
  {
   "cell_type": "code",
   "execution_count": 6,
   "metadata": {
    "collapsed": false
   },
   "outputs": [
    {
     "data": {
      "text/plain": [
       "{u'alt_title': u'10,000 B.C. (2008)',\n",
       " u'director': u'Roland Emmerich',\n",
       " u'domestic_gross': 94784201,\n",
       " u'mojo_slug': u'10000bc',\n",
       " u'opening_per_theater': 10518,\n",
       " u'opening_weekend_take': 35867488,\n",
       " u'production_budget': 105000000,\n",
       " u'release_date_limited': None,\n",
       " u'release_date_wide': u'2008-03-07',\n",
       " u'title': u'10,000 B.C.',\n",
       " u'widest_release': 3454,\n",
       " u'worldwide_gross': 269784201,\n",
       " u'year': 2008}"
      ]
     },
     "execution_count": 6,
     "metadata": {},
     "output_type": "execute_result"
    }
   ],
   "source": [
    "movies[0]"
   ]
  },
  {
   "cell_type": "code",
   "execution_count": 7,
   "metadata": {
    "collapsed": false
   },
   "outputs": [
    {
     "data": {
      "text/plain": [
       "2008"
      ]
     },
     "execution_count": 7,
     "metadata": {},
     "output_type": "execute_result"
    }
   ],
   "source": [
    "movies[0]['year']"
   ]
  },
  {
   "cell_type": "code",
   "execution_count": 8,
   "metadata": {
    "collapsed": false
   },
   "outputs": [],
   "source": [
    "from collections import Counter\n",
    "years_list = [movie['year'] for movie in movies]\n",
    "years = Counter(years_list)"
   ]
  },
  {
   "cell_type": "code",
   "execution_count": 9,
   "metadata": {
    "collapsed": false
   },
   "outputs": [
    {
     "name": "stdout",
     "output_type": "stream",
     "text": [
      "None\n"
     ]
    }
   ],
   "source": [
    "print min(years.keys())"
   ]
  },
  {
   "cell_type": "code",
   "execution_count": 10,
   "metadata": {
    "collapsed": false
   },
   "outputs": [
    {
     "data": {
      "text/plain": [
       "1933"
      ]
     },
     "execution_count": 10,
     "metadata": {},
     "output_type": "execute_result"
    }
   ],
   "source": [
    "min([year for year in years.keys() if year != None])"
   ]
  },
  {
   "cell_type": "code",
   "execution_count": 11,
   "metadata": {
    "collapsed": false
   },
   "outputs": [
    {
     "data": {
      "text/plain": [
       "2015"
      ]
     },
     "execution_count": 11,
     "metadata": {},
     "output_type": "execute_result"
    }
   ],
   "source": [
    "max([year for year in years.keys() if year != None])"
   ]
  },
  {
   "cell_type": "markdown",
   "metadata": {},
   "source": [
    "# The years go from 1933 to 2015."
   ]
  },
  {
   "cell_type": "markdown",
   "metadata": {},
   "source": [
    "#### Challenge 3\n",
    "\n",
    "Start a new cell. Pretty-printing the result of the previous challenge gives you a\n",
    "decent idea, but let's make a real histogram. Let's make sure ipython\n",
    "notebook shows the graphs inline and we import the necessary plotting\n",
    "stuff:\n",
    "\n",
    "    %matplotlib inline\n",
    "    import matplotlib.pyplot as plt\n",
    "\timport seaborn as sns\n",
    "\n",
    "The documentation for plotting a histogram with matplotlib is\n",
    "[here](http://matplotlib.org/api/pyplot_api.html#matplotlib.pyplot.hist),\n",
    "but it is basically as easy as doing\n",
    "\n",
    "    plt.hist(movie_years)\n",
    "\n",
    "but if you try this now you should get an error. What happened? It\n",
    "says `NoneType` in the error. If you look in carefully you might see\n",
    "that some of the years were `None` in `movie_years`. That's because\n",
    "year data was missing for a handful of movies on boxofficemojo, and\n",
    "the value is `None`. (How many of them are there?) Clean those out\n",
    "from your list of years and plot a histogram. Give it a title by\n",
    "adding a line\n",
    "\n",
    "    plt.title('Your title goes here\")\n",
    "\n",
    "Note: We imported seaborn but do not seem to use it. However, just the\n",
    "act of importing seaborn changes the harsh default color scheme and\n",
    "other visual settings of `matplotlib` and makes the plots made with it\n",
    "look better."
   ]
  },
  {
   "cell_type": "code",
   "execution_count": 12,
   "metadata": {
    "collapsed": true
   },
   "outputs": [],
   "source": [
    "%matplotlib inline\n",
    "import matplotlib.pyplot as plt\n",
    "import seaborn as sns"
   ]
  },
  {
   "cell_type": "code",
   "execution_count": 13,
   "metadata": {
    "collapsed": false,
    "scrolled": true
   },
   "outputs": [
    {
     "data": {
      "text/plain": [
       "Counter({1933: 1,\n",
       "         1936: 1,\n",
       "         1937: 1,\n",
       "         1940: 1,\n",
       "         1946: 1,\n",
       "         1950: 1,\n",
       "         1951: 3,\n",
       "         1953: 1,\n",
       "         1956: 2,\n",
       "         1959: 1,\n",
       "         1960: 1,\n",
       "         1964: 1,\n",
       "         1967: 2,\n",
       "         1968: 2,\n",
       "         1969: 4,\n",
       "         1970: 6,\n",
       "         1971: 2,\n",
       "         1972: 4,\n",
       "         1974: 4,\n",
       "         1975: 3,\n",
       "         1976: 6,\n",
       "         1977: 4,\n",
       "         1978: 6,\n",
       "         1979: 9,\n",
       "         1980: 14,\n",
       "         1981: 12,\n",
       "         1982: 18,\n",
       "         1983: 19,\n",
       "         1984: 17,\n",
       "         1985: 13,\n",
       "         1986: 21,\n",
       "         1987: 27,\n",
       "         1988: 31,\n",
       "         1989: 29,\n",
       "         1990: 24,\n",
       "         1991: 24,\n",
       "         1992: 28,\n",
       "         1993: 39,\n",
       "         1994: 30,\n",
       "         1995: 51,\n",
       "         1996: 52,\n",
       "         1997: 74,\n",
       "         1998: 84,\n",
       "         1999: 106,\n",
       "         2000: 99,\n",
       "         2001: 108,\n",
       "         2002: 132,\n",
       "         2003: 146,\n",
       "         2004: 161,\n",
       "         2005: 164,\n",
       "         2006: 184,\n",
       "         2007: 190,\n",
       "         2008: 194,\n",
       "         2009: 192,\n",
       "         2010: 209,\n",
       "         2011: 264,\n",
       "         2012: 257,\n",
       "         2013: 308,\n",
       "         2014: 280,\n",
       "         2015: 53})"
      ]
     },
     "execution_count": 13,
     "metadata": {},
     "output_type": "execute_result"
    }
   ],
   "source": [
    "years.pop(None)\n",
    "years"
   ]
  },
  {
   "cell_type": "code",
   "execution_count": 14,
   "metadata": {
    "collapsed": false,
    "scrolled": true
   },
   "outputs": [
    {
     "data": {
      "text/plain": [
       "[(1933, 1),\n",
       " (1936, 1),\n",
       " (1937, 1),\n",
       " (1940, 1),\n",
       " (1946, 1),\n",
       " (1950, 1),\n",
       " (1951, 3),\n",
       " (1953, 1),\n",
       " (1956, 2),\n",
       " (1959, 1),\n",
       " (1960, 1),\n",
       " (1964, 1),\n",
       " (1967, 2),\n",
       " (1968, 2),\n",
       " (1969, 4),\n",
       " (1970, 6),\n",
       " (1971, 2),\n",
       " (1972, 4),\n",
       " (1974, 4),\n",
       " (1975, 3),\n",
       " (1976, 6),\n",
       " (1977, 4),\n",
       " (1978, 6),\n",
       " (1979, 9),\n",
       " (1980, 14),\n",
       " (1981, 12),\n",
       " (1982, 18),\n",
       " (1983, 19),\n",
       " (1984, 17),\n",
       " (1985, 13),\n",
       " (1986, 21),\n",
       " (1987, 27),\n",
       " (1988, 31),\n",
       " (1989, 29),\n",
       " (1990, 24),\n",
       " (1991, 24),\n",
       " (1992, 28),\n",
       " (1993, 39),\n",
       " (1994, 30),\n",
       " (1995, 51),\n",
       " (1996, 52),\n",
       " (1997, 74),\n",
       " (1998, 84),\n",
       " (1999, 106),\n",
       " (2000, 99),\n",
       " (2001, 108),\n",
       " (2002, 132),\n",
       " (2003, 146),\n",
       " (2004, 161),\n",
       " (2005, 164),\n",
       " (2006, 184),\n",
       " (2007, 190),\n",
       " (2008, 194),\n",
       " (2009, 192),\n",
       " (2010, 209),\n",
       " (2011, 264),\n",
       " (2012, 257),\n",
       " (2013, 308),\n",
       " (2014, 280),\n",
       " (2015, 53)]"
      ]
     },
     "execution_count": 14,
     "metadata": {},
     "output_type": "execute_result"
    }
   ],
   "source": [
    "years_vals = zip(years.keys(),years.values())\n",
    "years_vals"
   ]
  },
  {
   "cell_type": "code",
   "execution_count": 15,
   "metadata": {
    "collapsed": false
   },
   "outputs": [
    {
     "data": {
      "text/plain": [
       "(array([  4.00000000e+00,   1.00000000e+00,   7.00000000e+00,\n",
       "          3.00000000e+00,   2.00000000e+01,   7.60000000e+01,\n",
       "          1.81000000e+02,   3.82000000e+02,   1.10000000e+03,\n",
       "          1.94700000e+03]),\n",
       " array([ 1933. ,  1941.2,  1949.4,  1957.6,  1965.8,  1974. ,  1982.2,\n",
       "         1990.4,  1998.6,  2006.8,  2015. ]),\n",
       " <a list of 10 Patch objects>)"
      ]
     },
     "execution_count": 15,
     "metadata": {},
     "output_type": "execute_result"
    },
    {
     "data": {
      "image/png": "[encoded data removed]",
      "text/plain": [
       "<matplotlib.figure.Figure at 0x115a1ee90>"
      ]
     },
     "metadata": {},
     "output_type": "display_data"
    }
   ],
   "source": [
    "val, weight = zip(*[(k, v) for k,v in years.items()])\n",
    "plt.hist(val, weights=weight)"
   ]
  },
  {
   "cell_type": "code",
   "execution_count": 16,
   "metadata": {
    "collapsed": false
   },
   "outputs": [
    {
     "data": {
      "text/plain": [
       "(array([   1.,    1.,    1.,    0.,    1.,    0.,    0.,    1.,    0.,\n",
       "           0.,    4.,    0.,    1.,    0.,    2.,    1.,    1.,    0.,\n",
       "           1.,    0.,    2.,    6.,    6.,    6.,    0.,    7.,   10.,\n",
       "           6.,   23.,   30.,   19.,   30.,   48.,   31.,   53.,   52.,\n",
       "          39.,   81.,   52.,  158.,  205.,  108.,  278.,  325.,  184.,\n",
       "         384.,  401.,  264.,  565.,  333.]),\n",
       " array([ 1933.  ,  1934.64,  1936.28,  1937.92,  1939.56,  1941.2 ,\n",
       "         1942.84,  1944.48,  1946.12,  1947.76,  1949.4 ,  1951.04,\n",
       "         1952.68,  1954.32,  1955.96,  1957.6 ,  1959.24,  1960.88,\n",
       "         1962.52,  1964.16,  1965.8 ,  1967.44,  1969.08,  1970.72,\n",
       "         1972.36,  1974.  ,  1975.64,  1977.28,  1978.92,  1980.56,\n",
       "         1982.2 ,  1983.84,  1985.48,  1987.12,  1988.76,  1990.4 ,\n",
       "         1992.04,  1993.68,  1995.32,  1996.96,  1998.6 ,  2000.24,\n",
       "         2001.88,  2003.52,  2005.16,  2006.8 ,  2008.44,  2010.08,\n",
       "         2011.72,  2013.36,  2015.  ]),\n",
       " <a list of 50 Patch objects>)"
      ]
     },
     "execution_count": 16,
     "metadata": {},
     "output_type": "execute_result"
    },
    {
     "data": {
      "image/png": "[encoded data removed]",
      "text/plain": [
       "<matplotlib.figure.Figure at 0x117e73d10>"
      ]
     },
     "metadata": {},
     "output_type": "display_data"
    }
   ],
   "source": [
    "xvals, heights = zip(*[(k, v) for k,v in years.items()])\n",
    "plt.hist(xvals, weights=heights, bins=50)"
   ]
  },
  {
   "cell_type": "markdown",
   "metadata": {},
   "source": [
    "#### Challenge 4\n",
    "\n",
    "Let's look at something else. Make a histogram of the domestic gross\n",
    "numbers. With a regular histogram, however, you can't really see much,\n",
    "since low gross movies dominate the dataset. Use a log scale\n",
    "(logarithm of gross is much easier to read)."
   ]
  },
  {
   "cell_type": "code",
   "execution_count": 17,
   "metadata": {
    "collapsed": false
   },
   "outputs": [
    {
     "data": {
      "text/plain": [
       "{u'alt_title': u'10,000 B.C. (2008)',\n",
       " u'director': u'Roland Emmerich',\n",
       " u'domestic_gross': 94784201,\n",
       " u'mojo_slug': u'10000bc',\n",
       " u'opening_per_theater': 10518,\n",
       " u'opening_weekend_take': 35867488,\n",
       " u'production_budget': 105000000,\n",
       " u'release_date_limited': None,\n",
       " u'release_date_wide': u'2008-03-07',\n",
       " u'title': u'10,000 B.C.',\n",
       " u'widest_release': 3454,\n",
       " u'worldwide_gross': 269784201,\n",
       " u'year': 2008}"
      ]
     },
     "execution_count": 17,
     "metadata": {},
     "output_type": "execute_result"
    }
   ],
   "source": [
    "movies[0]"
   ]
  },
  {
   "cell_type": "code",
   "execution_count": 18,
   "metadata": {
    "collapsed": false
   },
   "outputs": [
    {
     "data": {
      "text/plain": [
       "[7.976735953473806,\n",
       " 7.82579615555162,\n",
       " 7.581815061951558,\n",
       " 5.308293295050092,\n",
       " 3.9644010711627313,\n",
       " 5.8496300600265805,\n",
       " 7.263286362188867,\n",
       " 7.087593111752921,\n",
       " 5.90459546220917,\n",
       " 7.7576370029567885,\n",
       " 4.140162229613637,\n",
       " 7.514533129838436,\n",
       " 5.0841829114204735,\n",
       " 7.85724579777389,\n",
       " 7.566969174401933,\n",
       " 7.807312202199124,\n",
       " 7.755531795193703,\n",
       " 8.220401443814666,\n",
       " 7.524384255120891,\n",
       " 6.1597440029128725,\n",
       " 6.694293184477959,\n",
       " 7.909338640405728,\n",
       " 7.409635267565521,\n",
       " 7.21193377437316,\n",
       " 8.141285641789336,\n",
       " 7.116760284714743,\n",
       " 7.885410154572015,\n",
       " 7.570198262852948,\n",
       " 7.653838556250921,\n",
       " 7.456956575642527,\n",
       " 5.801547764861395,\n",
       " 6.646795101099476,\n",
       " 8.104333104081022,\n",
       " 7.878593367767894,\n",
       " 4.777818163581255,\n",
       " 8.323489172619478,\n",
       " 7.197279427579782,\n",
       " 4.1671104785966575,\n",
       " 7.597355030877814,\n",
       " 7.568834206412733,\n",
       " 7.729220823030041,\n",
       " 5.249225270581422,\n",
       " 5.001487081184149,\n",
       " 4.634205121079346,\n",
       " 5.1707368318047955,\n",
       " 6.815104282002392,\n",
       " 6.992649202290461,\n",
       " 4.3122408451442125,\n",
       " 7.5792211869824335,\n",
       " 8.039212738331134,\n",
       " 7.977815999611086,\n",
       " 4.2504444001899655,\n",
       " 2.930949031167523,\n",
       " 7.583906618419596,\n",
       " 7.896903625110342,\n",
       " 5.114430824733974,\n",
       " 7.510429370608568,\n",
       " 5.359913231160651,\n",
       " 8.08245530314833,\n",
       " 5.845890214731567,\n",
       " 4.242516582365605,\n",
       " 5.610829377234419,\n",
       " 4.14789264483285,\n",
       " 7.539129817446736,\n",
       " 6.087609653022729,\n",
       " 4.580993363122718,\n",
       " 4.193931191174947,\n",
       " 2.937517892017347,\n",
       " 7.235868351287793,\n",
       " 6.556650279616076,\n",
       " 8.067260240825458,\n",
       " 7.564231730160274,\n",
       " 7.50174227969754,\n",
       " 4.825120900815835,\n",
       " 5.813645027272463,\n",
       " 4.33909352266184,\n",
       " 3.8555797225017177,\n",
       " 4.4290898392125735,\n",
       " 4.820667697907919,\n",
       " 6.245328053426004,\n",
       " 7.6168458768590295,\n",
       " 3.477555332198981,\n",
       " 7.58773688724923,\n",
       " 7.813022163845814,\n",
       " 7.185341562506778,\n",
       " 7.574252863506617,\n",
       " 7.699562932520115,\n",
       " 4.499838234770692,\n",
       " 7.7360859862869376,\n",
       " 3.6219029608912305,\n",
       " 5.491323866538507,\n",
       " 7.560187748679307,\n",
       " 7.513644930030577,\n",
       " 7.858641824672094,\n",
       " 5.176886736640655,\n",
       " 7.386386105664217,\n",
       " 5.687456721422382,\n",
       " 7.845177738146881,\n",
       " 6.357438553523237,\n",
       " 7.352153950245866,\n",
       " 7.240318811407416,\n",
       " 7.795849754650212,\n",
       " 7.255449009938022,\n",
       " 5.503766176721026,\n",
       " 4.404286229019032,\n",
       " 7.205313330033219,\n",
       " 6.907579187460538,\n",
       " 5.328257249731236,\n",
       " 5.505809062698687,\n",
       " 6.3919860276854354,\n",
       " 7.025687589802433,\n",
       " 5.904166245493453,\n",
       " 5.2417854760067275,\n",
       " 5.236663198703409,\n",
       " 3.5984622004741507,\n",
       " 4.799078515017594,\n",
       " 7.6806829006943484,\n",
       " 7.37346664387487,\n",
       " 3.52022143588196,\n",
       " 5.791987327252013,\n",
       " 5.6174585212992225,\n",
       " 5.598264002239896,\n",
       " 8.237936659682347,\n",
       " 4.411198673955554,\n",
       " 5.727622577969138,\n",
       " 7.275275181028115,\n",
       " 7.752583890953659,\n",
       " 6.559887721448913,\n",
       " 7.350537987569442,\n",
       " 5.1858989626098175,\n",
       " 6.193832811457459,\n",
       " 6.4792435247086875,\n",
       " 7.53525855202074,\n",
       " 7.413105411547705,\n",
       " 7.127098705235304,\n",
       " 7.764946153866322,\n",
       " 7.908119204987375,\n",
       " 7.744085920065686,\n",
       " 4.11048869983667,\n",
       " 7.679388444890542,\n",
       " 7.930236917501779,\n",
       " 7.401407641093603,\n",
       " 6.952728722479171,\n",
       " 4.986180333101845,\n",
       " 5.4093954145430265,\n",
       " 6.9176260659900395,\n",
       " 7.529724186579719,\n",
       " 7.432969723566109,\n",
       " 5.76494089333144,\n",
       " 3.6585837154070626,\n",
       " 6.796828868948629,\n",
       " 7.191460879600734,\n",
       " 5.740098874187749,\n",
       " 7.5123488087854895,\n",
       " 3.926702494182645,\n",
       " 6.714209767223571,\n",
       " 7.869690268605064,\n",
       " 7.9449619279469506,\n",
       " 4.1253836604677065,\n",
       " 7.399799441051555,\n",
       " 7.184963900596985,\n",
       " 4.205664407371687,\n",
       " 8.337113633050068,\n",
       " 7.715778028342039,\n",
       " 8.11426595001103,\n",
       " 6.856839413022376,\n",
       " 8.114493038252972,\n",
       " 7.212135539233017,\n",
       " 6.827360483671798,\n",
       " 7.116821186446761,\n",
       " 8.010982263632675,\n",
       " 8.161678172391708,\n",
       " 7.178121465503548,\n",
       " 7.755962627622188,\n",
       " 8.540644545627485,\n",
       " 6.778946005468462,\n",
       " 8.019386815273219,\n",
       " 7.485228549099559,\n",
       " 7.424399122215817,\n",
       " 4.881801060198727,\n",
       " 7.645711450512504,\n",
       " 7.936674562507357,\n",
       " 6.733074184184806,\n",
       " 6.756877831183677,\n",
       " 7.23648322322762,\n",
       " 6.828627162127093,\n",
       " 4.0277979433503,\n",
       " 5.797569433317435,\n",
       " 7.8187916060815175,\n",
       " 7.508380524976425,\n",
       " 7.506919200496531,\n",
       " 8.028919435149625,\n",
       " 7.766460044326424,\n",
       " 7.930889473243874,\n",
       " 8.105008180730083,\n",
       " 7.1807221472518545,\n",
       " 7.099505023592525,\n",
       " 5.306740178800191,\n",
       " 8.125077187161422,\n",
       " 5.539915007705217,\n",
       " 8.132406424887288,\n",
       " 7.761499809929952,\n",
       " 4.641523684670228,\n",
       " 8.151063253353751,\n",
       " 6.018716722007662,\n",
       " 3.6322547766847135,\n",
       " 7.593988125687804,\n",
       " 5.933767110093402,\n",
       " 7.233706451439776,\n",
       " 7.756324178898672,\n",
       " 6.649655300427887,\n",
       " 7.907513332756384,\n",
       " 6.120966592742047,\n",
       " 5.8156653952464525,\n",
       " 3.9275756546911107,\n",
       " 6.505923690060397,\n",
       " 7.449363214880017,\n",
       " 5.606512493646135,\n",
       " 7.054156844116167,\n",
       " 7.323832387768575,\n",
       " 7.957884261361927,\n",
       " 5.304048684194934,\n",
       " 7.878124268637573,\n",
       " 6.506817449680419,\n",
       " 7.921538275164387,\n",
       " 7.706433008532302,\n",
       " 8.240144549414453,\n",
       " 7.247671584572137,\n",
       " 7.305596268271838,\n",
       " 6.693447204849224,\n",
       " 6.319672251701354,\n",
       " 7.269450877700644,\n",
       " 6.898701821182284,\n",
       " 4.334855689617291,\n",
       " 7.696028866645612,\n",
       " 7.917371041248517,\n",
       " 8.133620340530674,\n",
       " 6.804647811454845,\n",
       " 7.39368357912049,\n",
       " 4.163340305618251,\n",
       " 8.304443524054346,\n",
       " 7.203817934405688,\n",
       " 5.5835320209572314,\n",
       " 4.568565440070451,\n",
       " 7.0608102136730775,\n",
       " 5.870266922884758,\n",
       " 7.380358460681302,\n",
       " 6.189423213246953,\n",
       " 7.979829082207924,\n",
       " 7.179918230475302,\n",
       " 7.667102284340351,\n",
       " 5.3177562971801855,\n",
       " 7.650032305047754,\n",
       " 5.1070674433865,\n",
       " 7.328809607090299,\n",
       " 3.509740015570382,\n",
       " 8.171662141138322,\n",
       " 4.222638447166434,\n",
       " 4.270492503638618,\n",
       " 5.871483615802699,\n",
       " 7.301917112648397,\n",
       " 7.291170464011535,\n",
       " 7.028268849196029,\n",
       " 5.58046193742596,\n",
       " 3.9215824403934163,\n",
       " 7.265999359937322,\n",
       " 7.924571157938201,\n",
       " 6.665334695919062,\n",
       " 3.4785664955938436,\n",
       " 4.73108085136923,\n",
       " 7.706948664937325,\n",
       " 5.187859000340963,\n",
       " 5.218821614692182,\n",
       " 6.235610500612962,\n",
       " 5.395057169397006,\n",
       " 6.010374170546845,\n",
       " 4.3808621953412015,\n",
       " 5.1182514952868186,\n",
       " 4.839358615683761,\n",
       " 5.030810139884263,\n",
       " 7.576788201642862,\n",
       " 7.500567998802888,\n",
       " 6.334260889626815,\n",
       " 7.731459738806004,\n",
       " 7.695078734024766,\n",
       " 7.577054010330596,\n",
       " 8.881103572733295,\n",
       " 7.368936241381665,\n",
       " 8.01119108432521,\n",
       " 7.904619432793104,\n",
       " 7.157674253799859,\n",
       " 6.9250599005445554,\n",
       " 7.716808338657687,\n",
       " 6.660060719108437,\n",
       " 6.975521231795603,\n",
       " 5.677853226389213,\n",
       " 5.97808551890125,\n",
       " 7.803859198139241,\n",
       " 7.535330039649007,\n",
       " 6.864530244176265,\n",
       " 7.426714144977564,\n",
       " 7.435378236389621,\n",
       " 3.8970219560603634,\n",
       " 7.781713823963033,\n",
       " 5.651233418971647,\n",
       " 7.89136228292428,\n",
       " 8.323478497355053,\n",
       " 7.818272251085633,\n",
       " 7.479433655540739,\n",
       " 6.7169912413520905,\n",
       " 6.301034772877007,\n",
       " 4.292544028333579,\n",
       " 7.5080086571306515,\n",
       " 7.778587699627883,\n",
       " 8.001269998720545,\n",
       " 6.8909580491967874,\n",
       " 7.333840259102654,\n",
       " 5.146456734222927,\n",
       " 4.752616886120886,\n",
       " 5.852647701395552,\n",
       " 4.889615401970298,\n",
       " 7.517023465974626,\n",
       " 6.716920073063176,\n",
       " 6.484934015605147,\n",
       " 7.184638432303035,\n",
       " 7.477998511553997,\n",
       " 6.0059959797349425,\n",
       " 6.579053139362795,\n",
       " 6.647304809637799,\n",
       " 7.8611627000586495,\n",
       " 6.789153187053674,\n",
       " 6.846787876235522,\n",
       " 8.07087690350469,\n",
       " 6.77607150910514,\n",
       " 6.478738880614653,\n",
       " 8.400000485575779,\n",
       " 8.315660631337265,\n",
       " 8.26489125033409,\n",
       " 8.03070168622529,\n",
       " 7.331866127225612,\n",
       " 7.9219590800338695,\n",
       " 5.447702109547078,\n",
       " 7.815727965654809,\n",
       " 4.4866854545841965,\n",
       " 7.656284371855277,\n",
       " 7.249936495254546,\n",
       " 7.445067946714251,\n",
       " 7.107065610601406,\n",
       " 4.88788162196425,\n",
       " 4.746906520474098,\n",
       " 4.532703432370127,\n",
       " 7.025214039148852,\n",
       " 8.232341231615422,\n",
       " 7.560520544126655,\n",
       " 5.987136925317962,\n",
       " 7.630163759959187,\n",
       " 7.748552208563669,\n",
       " 7.57848998871107,\n",
       " 8.041795109379642,\n",
       " 8.102540986493885,\n",
       " 7.282965968757242,\n",
       " 5.67411218663788,\n",
       " 7.867511451320741,\n",
       " 6.510874225377074,\n",
       " 6.909268561677373,\n",
       " 6.627661977229497,\n",
       " 6.743149401697218,\n",
       " 6.764971411008084,\n",
       " 6.850292468846086,\n",
       " 6.76274561541923,\n",
       " 7.769796572352408,\n",
       " 4.839704248967155,\n",
       " 5.73251598847539,\n",
       " 7.359144537526285,\n",
       " 7.048253905295912,\n",
       " 5.080850069375432,\n",
       " 4.369568346596548,\n",
       " 6.906902432910138,\n",
       " 7.030463300504048,\n",
       " 5.225893118595658,\n",
       " 5.782158614662257,\n",
       " 7.777018829013295,\n",
       " 4.54117970897645,\n",
       " 7.915297339119189,\n",
       " 4.585381759696136,\n",
       " 4.64060067766542,\n",
       " 6.96409314231509,\n",
       " 5.832423322713159,\n",
       " 7.6666306672241875,\n",
       " 7.272198927985519,\n",
       " 5.000151976474334,\n",
       " 7.427586929664884,\n",
       " 5.040977933353358,\n",
       " 5.304705898212766,\n",
       " 4.875888529793606,\n",
       " 6.580056659126348,\n",
       " 5.0338980033881615,\n",
       " 7.975497990864409,\n",
       " 8.370624985117184,\n",
       " 7.498040490328965,\n",
       " 7.801493983116187,\n",
       " 6.6464136276322465,\n",
       " 4.751979262656985,\n",
       " 5.096628498963379,\n",
       " 6.31252600656498,\n",
       " 6.800628354951847,\n",
       " 6.2139773081136305,\n",
       " 7.765101001435945,\n",
       " 8.060579900171218,\n",
       " 4.521556479191024,\n",
       " 8.213464084444349,\n",
       " 7.160829472789246,\n",
       " 5.370216920815891,\n",
       " 7.684491204466197,\n",
       " 7.824839476113643,\n",
       " 7.431478643981544,\n",
       " 6.500448354447096,\n",
       " 7.241842043897645,\n",
       " 4.61061758311221,\n",
       " 8.070257501234513,\n",
       " 7.846126545812212,\n",
       " 7.079484277850193,\n",
       " 5.069901088511091,\n",
       " 7.338841768973093,\n",
       " 6.857582023423519,\n",
       " 7.607294561976447,\n",
       " 6.178984425147022,\n",
       " 5.908265135153282,\n",
       " 7.342329159255181,\n",
       " 7.408048799743577,\n",
       " 7.127998880552401,\n",
       " 8.093633712701212,\n",
       " 6.707147427425618,\n",
       " 3.9913146981766108,\n",
       " 6.7076755010260305,\n",
       " 6.643307755877761,\n",
       " 5.54585984047095,\n",
       " 7.211483129913835,\n",
       " 7.353051780715861,\n",
       " 4.353223576097456,\n",
       " 5.384851411073636,\n",
       " 6.316721214256759,\n",
       " 8.03598473997469,\n",
       " 3.838849090737255,\n",
       " 6.846225059597803,\n",
       " 7.332016443899143,\n",
       " 6.0687641646608705,\n",
       " 7.510786150939294,\n",
       " 6.972983218696023,\n",
       " 8.029199784561177,\n",
       " 5.302239990110039,\n",
       " 7.845641919933015,\n",
       " 7.516785738257215,\n",
       " 8.074064724205817,\n",
       " 8.147797164936346,\n",
       " 5.446746808008666,\n",
       " 7.665530429818762,\n",
       " 6.191402384174828,\n",
       " 3.204662511748219,\n",
       " 8.408171210713975,\n",
       " 6.766838901067756,\n",
       " 7.758744770362813,\n",
       " 6.381190917615095,\n",
       " 6.585669930091869,\n",
       " 5.410628788925422,\n",
       " 3.4409090820652177,\n",
       " 7.418882409407189,\n",
       " 4.112973459333155,\n",
       " 5.888307572238717,\n",
       " 7.72420027119884,\n",
       " 4.97310475221498,\n",
       " 5.781651993083606,\n",
       " 7.52381772946921,\n",
       " 5.40597096695799,\n",
       " 5.4122656171912755,\n",
       " 7.835808056032742,\n",
       " 6.987054963074795,\n",
       " 6.932028486111642,\n",
       " 7.0508745236261605,\n",
       " 8.086383823002246,\n",
       " 7.381274647842785,\n",
       " 7.595437422749758,\n",
       " 7.229696710954958,\n",
       " 6.17390619215681,\n",
       " 8.057108917982355,\n",
       " 5.688769430696351,\n",
       " 7.669803742761525,\n",
       " 7.421614455093293,\n",
       " 7.9769689187252295,\n",
       " 3.9885589568786157,\n",
       " 7.332205716718339,\n",
       " 7.845423291616057,\n",
       " 4.4838867071716555,\n",
       " 8.108923263593685,\n",
       " 4.759471423642751,\n",
       " 7.845108574629777,\n",
       " 5.748241534994171,\n",
       " 6.61051186026829,\n",
       " 6.580041810768395,\n",
       " 7.826471501802924,\n",
       " 8.085153819956574,\n",
       " 8.246109267171237,\n",
       " 8.356926170495164,\n",
       " 7.822068487626179,\n",
       " 7.333971295759324,\n",
       " 6.7767431589181735,\n",
       " 5.0556152936348235,\n",
       " 7.4040170398487435,\n",
       " 6.956464072836718,\n",
       " 7.549289997997884,\n",
       " 5.908352029344012,\n",
       " 7.06222865195816,\n",
       " 7.759698576545694,\n",
       " 3.6880636969463443,\n",
       " 5.420285884941918,\n",
       " 5.055255977667499,\n",
       " 3.8449118739121406,\n",
       " 7.0004431450716424,\n",
       " 7.878578922148912,\n",
       " 7.565774690543975,\n",
       " 6.996911415555822,\n",
       " 7.521546860622225,\n",
       " 7.700350116354386,\n",
       " 7.661577696098685,\n",
       " 5.251097753337429,\n",
       " 5.918396814776192,\n",
       " 5.968701908521908,\n",
       " 5.631066133972133,\n",
       " 4.952603578295778,\n",
       " 6.31717358203236,\n",
       " 7.30956265493345,\n",
       " 7.768752837494189,\n",
       " 7.8545697394408895,\n",
       " 7.915254388170242,\n",
       " 4.528209432477408,\n",
       " 5.361072123060869,\n",
       " 6.64783629728948,\n",
       " 8.122925499156823,\n",
       " 3.6967930850817443,\n",
       " 7.709688819171377,\n",
       " 7.919307009875269,\n",
       " 5.243181962438763,\n",
       " 7.294491886255142,\n",
       " 6.700210746811747,\n",
       " 7.138143480315933,\n",
       " 5.02110243148651,\n",
       " 7.237742191510086,\n",
       " 7.4339872146831505,\n",
       " 7.931133691796955,\n",
       " 3.953227971559854,\n",
       " 7.051542093187844,\n",
       " 7.438659552926483,\n",
       " 6.547990691645615,\n",
       " 7.578825572835174,\n",
       " 5.563838104288048,\n",
       " 8.385301018174026,\n",
       " 7.778545772435027,\n",
       " 6.69965547465759,\n",
       " 6.606264390844969,\n",
       " 7.970655989447772,\n",
       " 6.3756813510996215,\n",
       " 5.549519446606441,\n",
       " 7.220747442843497,\n",
       " 6.846696400926075,\n",
       " 8.211650572449201,\n",
       " 6.977258386818705,\n",
       " 5.181386195083218,\n",
       " 5.6819743949028645,\n",
       " 7.4237075375266555,\n",
       " 6.01875998128885,\n",
       " 7.595944118757093,\n",
       " 7.780715751148012,\n",
       " 5.3026122845990935,\n",
       " 5.336861820426396,\n",
       " 4.845042198562413,\n",
       " 8.009913368569828,\n",
       " 5.02126374317181,\n",
       " 7.7629686940211755,\n",
       " 4.9505449615967185,\n",
       " 7.325478471713936,\n",
       " 7.624006339627916,\n",
       " 6.205100380751997,\n",
       " 6.290429973399256,\n",
       " 3.784759894664005,\n",
       " 3.960185276604611,\n",
       " 6.55630322459082,\n",
       " 4.547725490760096,\n",
       " 7.408325034590072,\n",
       " 6.805019673416626,\n",
       " 4.754539444397008,\n",
       " 7.898132387466643,\n",
       " 5.007320952922744,\n",
       " 7.458645855076217,\n",
       " 8.247124717183793,\n",
       " 8.029792937874804,\n",
       " 6.031480369385018,\n",
       " 6.419427007615557,\n",
       " 6.494031108770446,\n",
       " 6.023491153078968,\n",
       " 5.335126787942101,\n",
       " 3.5768018958289125,\n",
       " 5.162940592275693,\n",
       " 4.779293389362142,\n",
       " 4.356790460351716,\n",
       " 6.521876671604228,\n",
       " 7.528916700277655,\n",
       " 5.018500777125863,\n",
       " 8.387537500510431,\n",
       " 8.28206080585251,\n",
       " 6.771549487637848,\n",
       " 7.1226041442032475,\n",
       " 4.4038580235832425,\n",
       " 7.628515367977767,\n",
       " 5.247641898422613,\n",
       " 5.98812087441878,\n",
       " 8.368532590721957,\n",
       " 4.259211493228929,\n",
       " 6.633445528265711,\n",
       " 8.216470332356977,\n",
       " 6.510188715811476,\n",
       " 8.004962817194297,\n",
       " 7.970279518163458,\n",
       " 7.604251753482533,\n",
       " 6.724678838978071,\n",
       " 5.151685418926481,\n",
       " 4.606381365110605,\n",
       " 6.836393875777056,\n",
       " 6.705749139178977,\n",
       " 6.490634412476763,\n",
       " 7.78770170662408,\n",
       " 7.50519910510449,\n",
       " 5.512755083362072,\n",
       " 6.747932648822609,\n",
       " 5.09191304667608,\n",
       " 6.137978830641418,\n",
       " 6.745971901006585,\n",
       " 5.142351917422307,\n",
       " 6.049374650646735,\n",
       " 3.2329961103921536,\n",
       " 7.162903555427726,\n",
       " 5.964607492285524,\n",
       " 7.824897033971385,\n",
       " 5.315527433037187,\n",
       " 7.493063451529772,\n",
       " 4.749852215000049,\n",
       " 6.596783857065013,\n",
       " 4.066325925362038,\n",
       " 8.097970289746094,\n",
       " 7.493632918651423,\n",
       " 7.8238724432661835,\n",
       " 7.919003303566537,\n",
       " 7.079950423852525,\n",
       " 6.123350770717764,\n",
       " 5.197589280002421,\n",
       " 6.175253421168178,\n",
       " 8.141808800604526,\n",
       " 7.916828454195147,\n",
       " 4.7739618820596865,\n",
       " 7.4972615075682665,\n",
       " 6.72492764142587,\n",
       " 7.258149564887891,\n",
       " 4.05545478494124,\n",
       " 8.232201763282712,\n",
       " 8.13157589033054,\n",
       " 8.028711781961983,\n",
       " 5.404618225746837,\n",
       " 5.544717758995201,\n",
       " 6.013625827968139,\n",
       " 7.550868715869308,\n",
       " 4.987532202729839,\n",
       " 7.4619899288484834,\n",
       " 7.465382851448418,\n",
       " 5.529588180949513,\n",
       " 6.48788113328258,\n",
       " 7.854362909395685,\n",
       " 5.373252312311839,\n",
       " 7.31397702396065,\n",
       " 6.0256834553294105,\n",
       " 7.867941823618769,\n",
       " 7.761634793671096,\n",
       " 7.760008288726666,\n",
       " 7.789932453969272,\n",
       " 7.711285551644595,\n",
       " 7.093323957909078,\n",
       " 5.657171585524053,\n",
       " 3.5386993795424067,\n",
       " 7.142061274591204,\n",
       " 7.097356654909217,\n",
       " 4.126358727069269,\n",
       " 6.44455939545757,\n",
       " 6.824193284313078,\n",
       " 7.895892578367336,\n",
       " 6.896140637579454,\n",
       " 6.878777873308804,\n",
       " 5.088341665179758,\n",
       " 6.240202423031128,\n",
       " 7.753659501780858,\n",
       " 5.316762681728122,\n",
       " 3.9550620696750323,\n",
       " 7.613760746005464,\n",
       " 7.335814597794718,\n",
       " 8.087027550364505,\n",
       " 6.760714553786836,\n",
       " 6.498466320380612,\n",
       " 8.137846474682336,\n",
       " 7.964331351238161,\n",
       " 5.277416661141504,\n",
       " 6.465732823143295,\n",
       " 7.116326025280778,\n",
       " 7.568083814717163,\n",
       " 7.424707802418504,\n",
       " 6.759698130953095,\n",
       " 4.448675408165723,\n",
       " 8.120865452216202,\n",
       " 7.5313225045458285,\n",
       " 7.43310183463017,\n",
       " 4.791058743591825,\n",
       " 8.09645906815896,\n",
       " 7.903352834742338,\n",
       " 6.699118333997773,\n",
       " 7.165659631239023,\n",
       " 7.753058617099777,\n",
       " 7.827788352383943,\n",
       " 6.786313642786749,\n",
       " 5.455735392920991,\n",
       " 4.978828506638806,\n",
       " 4.742732984660128,\n",
       " 5.011219313939612,\n",
       " 7.330129785869086,\n",
       " 5.630852807804807,\n",
       " 6.575601498168756,\n",
       " 7.980623714770093,\n",
       " 5.95674886325762,\n",
       " 5.150320391937952,\n",
       " 4.671765079379814,\n",
       " 8.00434589567875,\n",
       " 7.602897989542576,\n",
       " 6.835186751370994,\n",
       " 7.6590641190353885,\n",
       " 7.564261804786921,\n",
       " 7.993294512740449,\n",
       " 7.125478890900305,\n",
       " 4.61397916824007,\n",
       " 8.10772640843389,\n",
       " 6.647507371795991,\n",
       " 6.710373548679265,\n",
       " 5.50417851587659,\n",
       " 8.004826637230272,\n",
       " 5.428078072761959,\n",
       " 7.597316383980894,\n",
       " 5.818216653207528,\n",
       " 4.629470763032389,\n",
       " 7.204329424945831,\n",
       " 7.646181620453829,\n",
       " 7.467327876756964,\n",
       " 7.908603500769019,\n",
       " 5.139296489434423,\n",
       " 8.13798717839668,\n",
       " 7.880715487792122,\n",
       " 7.062138213187827,\n",
       " 7.5260780663688465,\n",
       " 7.880677442479306,\n",
       " 8.003978657646684,\n",
       " 7.878855413446378,\n",
       " 7.8230044676513755,\n",
       " 5.940641973921774,\n",
       " 6.645422269349092,\n",
       " 5.5791179304409955,\n",
       " 7.14954514232352,\n",
       " 7.651880441312942,\n",
       " 7.505854009443743,\n",
       " 7.8767155443779275,\n",
       " 7.493972152020541,\n",
       " 5.879207737516298,\n",
       " 6.543262736625942,\n",
       " 7.727208585319837,\n",
       " 5.882840894174522,\n",
       " 7.229776905807734,\n",
       " 5.4346327661741425,\n",
       " 6.739459207472756,\n",
       " 7.305757975377165,\n",
       " 8.038242304463855,\n",
       " 7.53809872843992,\n",
       " 4.467415700848101,\n",
       " 7.368853701585994,\n",
       " 8.001043445212767,\n",
       " 7.783805487644372,\n",
       " 4.472507792078809,\n",
       " 7.444644395572708,\n",
       " 6.309300063352361,\n",
       " 7.59243868792028,\n",
       " 7.228861820847506,\n",
       " 7.596204469918008,\n",
       " 7.926091249898544,\n",
       " 4.935517342145914,\n",
       " 7.261374747676764,\n",
       " 7.960885347479665,\n",
       " 7.453968896678409,\n",
       " 8.272232585829071,\n",
       " 4.719960723392481,\n",
       " 6.845697448896404,\n",
       " 8.107477494064797,\n",
       " 7.704949098591604,\n",
       " 7.583522582478294,\n",
       " 6.483028273465437,\n",
       " 7.796220002823382,\n",
       " 5.826545789142195,\n",
       " 7.002065535798189,\n",
       " 4.965596762200627,\n",
       " 5.700546235217872,\n",
       " 6.40966688851015,\n",
       " 8.105541950120704,\n",
       " 7.766120938835827,\n",
       " 7.285501544716603,\n",
       " 6.876055585125997,\n",
       " 5.301108161635997,\n",
       " 6.873258738061578,\n",
       " 7.121732706911039,\n",
       " 8.018272070560126,\n",
       " 7.496472679324311,\n",
       " 5.158386618896284,\n",
       " 7.436135363581698,\n",
       " 5.653082205883612,\n",
       " 6.003656523582284,\n",
       " 7.409293123796927,\n",
       " 5.46787437149593,\n",
       " 6.621595412602547,\n",
       " 8.26531048658444,\n",
       " 7.539962860657843,\n",
       " 6.259083318710783,\n",
       " 6.756233495745027,\n",
       " 7.677998763191395,\n",
       " 6.398608828067606,\n",
       " 7.826902155365013,\n",
       " 8.010908212868168,\n",
       " 7.075646034924561,\n",
       " 7.157708477176397,\n",
       " 7.331295550670385,\n",
       " 5.220704179624263,\n",
       " 8.728238856555372,\n",
       " 7.529924198957464,\n",
       " 7.901606234233758,\n",
       " 7.2410149166478135,\n",
       " 7.406086096880334,\n",
       " 5.899719301116471,\n",
       " 7.060232178169426,\n",
       " 7.686175154108171,\n",
       " 7.994367329044221,\n",
       " 8.33753141407362,\n",
       " 7.77100624712344,\n",
       " 8.27123921267234,\n",
       " 7.47858924856585,\n",
       " 6.537409658260294,\n",
       " 5.654077345779447,\n",
       " 6.621164852822498,\n",
       " 6.9027119320044665,\n",
       " 6.64048918861053,\n",
       " 7.579970760060364,\n",
       " 5.384931968416847,\n",
       " 4.264085514155395,\n",
       " 4.298307137328508,\n",
       " 6.016133334289585,\n",
       " 7.037238993658704,\n",
       " 7.595095196150297,\n",
       " 7.981637950194361,\n",
       " 6.9051754483135275,\n",
       " 7.2255438407963695,\n",
       " 4.669707291076767,\n",
       " 4.573718463077556,\n",
       " 7.3173657323433305,\n",
       " 7.903170552002518,\n",
       " 6.643862496535155,\n",
       " 4.2632572270140665,\n",
       " 6.933508951415406,\n",
       " 7.560098390106586,\n",
       " 6.979286899894389,\n",
       " 6.922449902324885,\n",
       " 7.285155096638273,\n",
       " 7.49384195652494,\n",
       " 4.70513642982145,\n",
       " 6.662616757476335,\n",
       " 7.545227538012678,\n",
       " 7.028849347957272,\n",
       " 2.88024177589548,\n",
       " 7.867161794908102,\n",
       " 6.945621644500009,\n",
       " 7.142972587278528,\n",
       " 8.147567084668585,\n",
       " 5.43319839689386,\n",
       " 7.690012822277183,\n",
       " 4.64798899433751,\n",
       " 7.4570459914195215,\n",
       " 7.508417245703976,\n",
       " 6.035902201635281,\n",
       " 5.841848558476937,\n",
       " 5.697738337498673,\n",
       " 6.2538677056176235,\n",
       " 7.244860588743493,\n",
       " 5.303789835314356,\n",
       " 7.486630307522565,\n",
       " 6.910118856611666,\n",
       " 5.3655703432761435,\n",
       " 8.121836532592557,\n",
       " 6.175572691500394,\n",
       " 7.556592850186994,\n",
       " 7.415381660039733,\n",
       " 4.658821959135624,\n",
       " 4.646874038856601,\n",
       " 7.404926806384746,\n",
       " 8.400562138256639,\n",
       " 8.565920114425952,\n",
       " 4.861468694204957,\n",
       " 6.625015444312097,\n",
       " 5.591091332018471,\n",
       " 7.816498187095707,\n",
       " 5.123139205826358,\n",
       " 7.726417013643764,\n",
       " 7.784935658533037,\n",
       " 5.878090158910867,\n",
       " 6.134021473447424,\n",
       " 7.199246585036573,\n",
       " 7.231596521458148,\n",
       " 8.096007341247045,\n",
       " 6.904821266620362,\n",
       " 5.525509965955897,\n",
       " 6.007568135766773,\n",
       " 7.704434509204169,\n",
       " 7.806204571998159,\n",
       " 7.721798542152593,\n",
       " 5.98180094520069,\n",
       " 6.796773951787074,\n",
       " 7.356765078019563,\n",
       " 7.775612064321458,\n",
       " 8.206669769016061,\n",
       " 7.919124407674459,\n",
       " 8.07018918540184,\n",
       " 8.000054279075194,\n",
       " 4.040167036482847,\n",
       " 6.983678282094745,\n",
       " 7.149217665004694,\n",
       " 7.863479516982895,\n",
       " 6.6097595591122165,\n",
       " 8.139085500559569,\n",
       " 5.363386313749419,\n",
       " 7.8058695732492485,\n",
       " 5.165807979003786,\n",
       " 4.741348602475895,\n",
       " 7.623653254840137,\n",
       " 6.126997183713493,\n",
       " 5.584865846445031,\n",
       " 7.152009970292277,\n",
       " 6.15742654478045,\n",
       " 4.843263931534549,\n",
       " 4.983594717323196,\n",
       " 6.079259412019641,\n",
       " 8.063131498366122,\n",
       " 7.904226848680719,\n",
       " 8.178827061073866,\n",
       " 6.7783847656419765,\n",
       " 8.211668896356805,\n",
       " 8.058147804668915,\n",
       " 7.486471426713617,\n",
       " 5.042370719710468,\n",
       " 6.186189289684262,\n",
       " 5.3294487305386555,\n",
       " 7.38671056789875,\n",
       " 7.859058873610001,\n",
       " 7.623502896016329,\n",
       " 5.7189258114954935,\n",
       " 5.400529355220992,\n",
       " 7.00728687420159,\n",
       " 6.565883929702472,\n",
       " 7.388770678714754,\n",
       " 4.287062352554394,\n",
       " 7.622315194539877,\n",
       " 6.103982189572047,\n",
       " 7.3810551601900425,\n",
       " 7.740375654965057,\n",
       " 6.87024695731307,\n",
       " 7.450439062907084,\n",
       " 7.041738798349274,\n",
       " 7.5367716616376725,\n",
       " 7.440049792845966,\n",
       " 6.18039600606464,\n",
       " 8.06722548498483,\n",
       " 7.524350288309546,\n",
       " 7.79333088575218,\n",
       " 6.741075925707177,\n",
       " 3.991757539534348,\n",
       " 7.750356828173775,\n",
       " 7.518813460280036,\n",
       " 7.460028941174981,\n",
       " 7.624288543152447,\n",
       " 6.971405050685467,\n",
       " 7.149527413883736,\n",
       " 7.0405121889433016,\n",
       " 5.353127286608135,\n",
       " 8.158834545783101,\n",
       " 8.05289738181279,\n",
       " 7.527828780241927,\n",
       " ...]"
      ]
     },
     "execution_count": 18,
     "metadata": {},
     "output_type": "execute_result"
    }
   ],
   "source": [
    "import math\n",
    "log_dom_gross = [math.log10(movie['domestic_gross']) for movie in movies if movie['domestic_gross'] != None]\n",
    "log_dom_gross"
   ]
  },
  {
   "cell_type": "code",
   "execution_count": 19,
   "metadata": {
    "collapsed": false
   },
   "outputs": [
    {
     "data": {
      "text/plain": [
       "(array([    3.,    15.,    90.,   215.,   353.,   410.,   449.,   783.,\n",
       "         1188.,   147.]),\n",
       " array([ 1.8573325 ,  2.5597096 ,  3.26208671,  3.96446382,  4.66684093,\n",
       "         5.36921803,  6.07159514,  6.77397225,  7.47634936,  8.17872647,\n",
       "         8.88110357]),\n",
       " <a list of 10 Patch objects>)"
      ]
     },
     "execution_count": 19,
     "metadata": {},
     "output_type": "execute_result"
    },
    {
     "data": {
      "image/png": "[encoded data removed]",
      "text/plain": [
       "<matplotlib.figure.Figure at 0x118991050>"
      ]
     },
     "metadata": {},
     "output_type": "display_data"
    }
   ],
   "source": [
    "plt.hist(log_dom_gross)\n"
   ]
  },
  {
   "cell_type": "markdown",
   "metadata": {},
   "source": [
    "#### Challenge 5\n",
    "\n",
    "Make a histogram of title lengths (number of characters in the movie's\n",
    "title). Add labels to the x and y axes to make it clearer."
   ]
  },
  {
   "cell_type": "code",
   "execution_count": 20,
   "metadata": {
    "collapsed": false
   },
   "outputs": [
    {
     "data": {
      "text/plain": [
       "(array([  6.66000000e+02,   1.87400000e+03,   8.71000000e+02,\n",
       "          2.12000000e+02,   8.00000000e+01,   1.80000000e+01,\n",
       "          3.00000000e+00,   1.00000000e+00,   1.00000000e+00,\n",
       "          2.00000000e+00]),\n",
       " array([  0. ,   8.2,  16.4,  24.6,  32.8,  41. ,  49.2,  57.4,  65.6,\n",
       "         73.8,  82. ]),\n",
       " <a list of 10 Patch objects>)"
      ]
     },
     "execution_count": 20,
     "metadata": {},
     "output_type": "execute_result"
    },
    {
     "data": {
      "image/png": "[encoded data removed]",
      "text/plain": [
       "<matplotlib.figure.Figure at 0x118b72750>"
      ]
     },
     "metadata": {},
     "output_type": "display_data"
    }
   ],
   "source": [
    "len_titles = [len(movie['title']) for movie in movies]\n",
    "plt.hist(len_titles)"
   ]
  },
  {
   "cell_type": "markdown",
   "metadata": {},
   "source": [
    "#### Challenge 6\n",
    "\n",
    "Ok, now let's do this with pandas.\n",
    "\n",
    "    import pandas as pd\n",
    "\n",
    "Assuming you called your original list of dictionaries with all the films\n",
    "`movies`, you can do this:\n",
    "\n",
    "    movies_df = pd.DataFrame(movies)\n",
    "    movies_df['year'].hist()\n",
    "\n",
    "This gives us a histogram of movies.\n",
    "\n",
    "You can see that we don't have a lot before the 80's. Let's focus on\n",
    "the last 25 years. You can filter with a boolean expression like this:\n",
    "\n",
    "    recent_movies = movies_df[movies_df['year']>=1990]\n",
    "\n",
    "Now `recent_movies` is a dataframe only with movies released\n",
    "after 1990. Make a histogram of these only, make sure they are all\n",
    "indeed after 1990."
   ]
  },
  {
   "cell_type": "code",
   "execution_count": 21,
   "metadata": {
    "collapsed": false
   },
   "outputs": [
    {
     "data": {
      "text/plain": [
       "<matplotlib.axes._subplots.AxesSubplot at 0x118976690>"
      ]
     },
     "execution_count": 21,
     "metadata": {},
     "output_type": "execute_result"
    },
    {
     "data": {
      "image/png": "[encoded data removed]",
      "text/plain": [
       "<matplotlib.figure.Figure at 0x118b7d550>"
      ]
     },
     "metadata": {},
     "output_type": "display_data"
    }
   ],
   "source": [
    "import pandas as pd\n",
    "movies_df = pd.DataFrame(movies)\n",
    "movies_df['year'].hist()"
   ]
  },
  {
   "cell_type": "code",
   "execution_count": 22,
   "metadata": {
    "collapsed": true
   },
   "outputs": [],
   "source": [
    "recent = movies_df[movies_df['year']>=1990]"
   ]
  },
  {
   "cell_type": "code",
   "execution_count": 23,
   "metadata": {
    "collapsed": false
   },
   "outputs": [
    {
     "data": {
      "text/plain": [
       "<matplotlib.axes._subplots.AxesSubplot at 0x118fe8710>"
      ]
     },
     "execution_count": 23,
     "metadata": {},
     "output_type": "execute_result"
    },
    {
     "data": {
      "image/png": "[encoded data removed]",
      "text/plain": [
       "<matplotlib.figure.Figure at 0x118d8e190>"
      ]
     },
     "metadata": {},
     "output_type": "display_data"
    }
   ],
   "source": [
    "recent['year'].hist()"
   ]
  },
  {
   "cell_type": "markdown",
   "metadata": {},
   "source": [
    "#### Challenge 7\n",
    "\n",
    "Like a histogram, pandas makes it easy to do other types of plots as\n",
    "well. Make a boxplot of domestic grosses, grouped by year. So, for\n",
    "each year you should have a boxplot showing the distribution. Do this\n",
    "for only movies released at or after 1990.\n",
    "\n",
    "Hint: You can do this with a single, simple line of code.\n",
    "\n",
    "Once you have it, try to play with its size, limits of y-axis, etc. to\n",
    "make it big and readable. You wouldn't want things to overlap each\n",
    "other, or be tiny and squeezed together in a way that would hinder you\n",
    "from understanding what's going on with grosses over the years."
   ]
  },
  {
   "cell_type": "code",
   "execution_count": 24,
   "metadata": {
    "collapsed": false,
    "scrolled": true
   },
   "outputs": [
    {
     "data": {
      "text/plain": [
       "<matplotlib.axes._subplots.AxesSubplot at 0x119157950>"
      ]
     },
     "execution_count": 24,
     "metadata": {},
     "output_type": "execute_result"
    },
    {
     "data": {
      "image/png": "[encoded data removed]",
      "text/plain": [
       "<matplotlib.figure.Figure at 0x11924fc50>"
      ]
     },
     "metadata": {},
     "output_type": "display_data"
    }
   ],
   "source": [
    "recent.boxplot(column=['domestic_gross'], by=['year'], rot=90, grid=True)"
   ]
  },
  {
   "cell_type": "code",
   "execution_count": 25,
   "metadata": {
    "collapsed": false
   },
   "outputs": [
    {
     "name": "stderr",
     "output_type": "stream",
     "text": [
      "/Users/jwesley/anaconda/lib/python2.7/site-packages/numpy/lib/function_base.py:3823: RuntimeWarning: Invalid value encountered in percentile\n",
      "  RuntimeWarning)\n"
     ]
    },
    {
     "data": {
      "text/plain": [
       "{'boxes': [<matplotlib.lines.Line2D at 0x119d7ce90>],\n",
       " 'caps': [<matplotlib.lines.Line2D at 0x119d24d10>,\n",
       "  <matplotlib.lines.Line2D at 0x119d31390>],\n",
       " 'fliers': [<matplotlib.lines.Line2D at 0x119d87050>],\n",
       " 'means': [],\n",
       " 'medians': [<matplotlib.lines.Line2D at 0x119d319d0>],\n",
       " 'whiskers': [<matplotlib.lines.Line2D at 0x119d7cfd0>,\n",
       "  <matplotlib.lines.Line2D at 0x119d246d0>]}"
      ]
     },
     "execution_count": 25,
     "metadata": {},
     "output_type": "execute_result"
    },
    {
     "data": {
      "image/png": "[encoded data removed]",
      "text/plain": [
       "<matplotlib.figure.Figure at 0x119414650>"
      ]
     },
     "metadata": {},
     "output_type": "display_data"
    }
   ],
   "source": [
    "plt.boxplot(recent['domestic_gross'])"
   ]
  },
  {
   "cell_type": "code",
   "execution_count": 27,
   "metadata": {
    "collapsed": false
   },
   "outputs": [
    {
     "data": {
      "image/png": "[encoded data removed]",
      "text/plain": [
       "<matplotlib.figure.Figure at 0x11a023490>"
      ]
     },
     "metadata": {},
     "output_type": "display_data"
    },
    {
     "data": {
      "image/png": "[encoded data removed]",
      "text/plain": [
       "<matplotlib.figure.Figure at 0x11a0233d0>"
      ]
     },
     "metadata": {},
     "output_type": "display_data"
    },
    {
     "data": {
      "image/png": "[encoded data removed]",
      "text/plain": [
       "<matplotlib.figure.Figure at 0x11a0c7c50>"
      ]
     },
     "metadata": {},
     "output_type": "display_data"
    },
    {
     "data": {
      "image/png": "[encoded data removed]",
      "text/plain": [
       "<matplotlib.figure.Figure at 0x11a151d50>"
      ]
     },
     "metadata": {},
     "output_type": "display_data"
    },
    {
     "data": {
      "image/png": "[encoded data removed]",
      "text/plain": [
       "<matplotlib.figure.Figure at 0x11a32e3d0>"
      ]
     },
     "metadata": {},
     "output_type": "display_data"
    },
    {
     "data": {
      "image/png": "[encoded data removed]",
      "text/plain": [
       "<matplotlib.figure.Figure at 0x11a3bdf90>"
      ]
     },
     "metadata": {},
     "output_type": "display_data"
    },
    {
     "data": {
      "image/png": "[encoded data removed]",
      "text/plain": [
       "<matplotlib.figure.Figure at 0x11a470410>"
      ]
     },
     "metadata": {},
     "output_type": "display_data"
    }
   ],
   "source": [
    "\n",
    "# fake up some data\n",
    "spread = np.random.rand(50) * 100\n",
    "center = np.ones(25) * 50\n",
    "flier_high = np.random.rand(10) * 100 + 100\n",
    "flier_low = np.random.rand(10) * -100\n",
    "data = np.concatenate((spread, center, flier_high, flier_low), 0)\n",
    "\n",
    "# basic plot\n",
    "plt.boxplot(data)\n",
    "\n",
    "# notched plot\n",
    "plt.figure()\n",
    "plt.boxplot(data, 1)\n",
    "\n",
    "# change outlier point symbols\n",
    "plt.figure()\n",
    "plt.boxplot(data, 0, 'gD')\n",
    "\n",
    "# don't show outlier points\n",
    "plt.figure()\n",
    "plt.boxplot(data, 0, '')\n",
    "\n",
    "# horizontal boxes\n",
    "plt.figure()\n",
    "plt.boxplot(data, 0, 'rs', 0)\n",
    "\n",
    "# change whisker length\n",
    "plt.figure()\n",
    "plt.boxplot(data, 0, 'rs', 0, 0.75)\n",
    "\n",
    "# fake up some more data\n",
    "spread = np.random.rand(50) * 100\n",
    "center = np.ones(25) * 40\n",
    "flier_high = np.random.rand(10) * 100 + 100\n",
    "flier_low = np.random.rand(10) * -100\n",
    "d2 = np.concatenate((spread, center, flier_high, flier_low), 0)\n",
    "data.shape = (-1, 1)\n",
    "d2.shape = (-1, 1)\n",
    "# data = concatenate( (data, d2), 1 )\n",
    "# Making a 2-D array only works if all the columns are the\n",
    "# same length.  If they are not, then use a list instead.\n",
    "# This is actually more efficient because boxplot converts\n",
    "# a 2-D array into a list of vectors internally anyway.\n",
    "data = [data, d2, d2[::2, 0]]\n",
    "# multiple box plots on one figure\n",
    "plt.figure()\n",
    "plt.boxplot(data)\n",
    "\n",
    "plt.show()"
   ]
  },
  {
   "cell_type": "markdown",
   "metadata": {},
   "source": [
    "#### Challenge 8\n",
    "\n",
    "Let's take a look at the dataframe. if you do\n",
    "\n",
    "    movies_df.head()\n",
    "\n",
    "it will show the first five rows, and ipython notebook will show it in\n",
    "a nice format. One thing you could notice is that the production\n",
    "budget values are missing from 2 movies even among these 5. That NaN\n",
    "(not-a-number) is how pandas treats missing values. They are like\n",
    "NULLs in a SQL database. Pandas is smart enough to not count them as\n",
    "real values, keeps them out of the calculation if you need the mean,\n",
    "etc. If you do\n",
    "\n",
    "    movies_df.describe()\n",
    "\n",
    "you get a nice report on every column in the data, allowing you to\n",
    "inspect and get a feel for each of them. You can see the\n",
    "count is much lower on production budget, this means a lot of NaNs.\n",
    "\n",
    "Make a new dataframe that only has movies for which we have budget\n",
    "information. How many are left?\n",
    "\n",
    "Hint: You want to look for the `dropna` method."
   ]
  },
  {
   "cell_type": "code",
   "execution_count": 28,
   "metadata": {
    "collapsed": false
   },
   "outputs": [
    {
     "data": {
      "text/html": [
       "<div>\n",
       "<table border=\"1\" class=\"dataframe\">\n",
       "  <thead>\n",
       "    <tr style=\"text-align: right;\">\n",
       "      <th></th>\n",
       "      <th>alt_title</th>\n",
       "      <th>director</th>\n",
       "      <th>domestic_gross</th>\n",
       "      <th>mojo_slug</th>\n",
       "      <th>opening_per_theater</th>\n",
       "      <th>opening_weekend_take</th>\n",
       "      <th>production_budget</th>\n",
       "      <th>release_date_limited</th>\n",
       "      <th>release_date_wide</th>\n",
       "      <th>title</th>\n",
       "      <th>widest_release</th>\n",
       "      <th>worldwide_gross</th>\n",
       "      <th>year</th>\n",
       "    </tr>\n",
       "  </thead>\n",
       "  <tbody>\n",
       "    <tr>\n",
       "      <th>0</th>\n",
       "      <td>10,000 B.C. (2008)</td>\n",
       "      <td>Roland Emmerich</td>\n",
       "      <td>94784201.0</td>\n",
       "      <td>10000bc</td>\n",
       "      <td>10518.0</td>\n",
       "      <td>35867488.0</td>\n",
       "      <td>105000000.0</td>\n",
       "      <td>None</td>\n",
       "      <td>2008-03-07</td>\n",
       "      <td>10,000 B.C.</td>\n",
       "      <td>3454.0</td>\n",
       "      <td>269784201.0</td>\n",
       "      <td>2008.0</td>\n",
       "    </tr>\n",
       "    <tr>\n",
       "      <th>1</th>\n",
       "      <td>102 Dalmatians (2000)</td>\n",
       "      <td>None</td>\n",
       "      <td>66957026.0</td>\n",
       "      <td>102dalmatians</td>\n",
       "      <td>7353.0</td>\n",
       "      <td>19883351.0</td>\n",
       "      <td>85000000.0</td>\n",
       "      <td>None</td>\n",
       "      <td>2000-11-22</td>\n",
       "      <td>102 Dalmatians</td>\n",
       "      <td>2704.0</td>\n",
       "      <td>183611771.0</td>\n",
       "      <td>2000.0</td>\n",
       "    </tr>\n",
       "    <tr>\n",
       "      <th>2</th>\n",
       "      <td>10 Things I Hate About You (1999)</td>\n",
       "      <td>None</td>\n",
       "      <td>38178166.0</td>\n",
       "      <td>10thingsihateaboutyou</td>\n",
       "      <td>3668.0</td>\n",
       "      <td>8330681.0</td>\n",
       "      <td>30000000.0</td>\n",
       "      <td>None</td>\n",
       "      <td>1999-03-31</td>\n",
       "      <td>10 Things I Hate About You</td>\n",
       "      <td>2311.0</td>\n",
       "      <td>53478166.0</td>\n",
       "      <td>1999.0</td>\n",
       "    </tr>\n",
       "    <tr>\n",
       "      <th>3</th>\n",
       "      <td>10 Years (2012)</td>\n",
       "      <td>Jamie Linden</td>\n",
       "      <td>203373.0</td>\n",
       "      <td>10years</td>\n",
       "      <td>7569.0</td>\n",
       "      <td>22707.0</td>\n",
       "      <td>NaN</td>\n",
       "      <td>None</td>\n",
       "      <td>2012-09-14</td>\n",
       "      <td>10 Years</td>\n",
       "      <td>63.0</td>\n",
       "      <td>203373.0</td>\n",
       "      <td>2012.0</td>\n",
       "    </tr>\n",
       "    <tr>\n",
       "      <th>4</th>\n",
       "      <td>11 Flowers (2013)</td>\n",
       "      <td>None</td>\n",
       "      <td>9213.0</td>\n",
       "      <td>11flowers</td>\n",
       "      <td>1758.0</td>\n",
       "      <td>3516.0</td>\n",
       "      <td>NaN</td>\n",
       "      <td>None</td>\n",
       "      <td>2013-02-22</td>\n",
       "      <td>11 Flowers</td>\n",
       "      <td>2.0</td>\n",
       "      <td>NaN</td>\n",
       "      <td>2013.0</td>\n",
       "    </tr>\n",
       "    <tr>\n",
       "      <th>5</th>\n",
       "      <td>The 11th Hour (2007)</td>\n",
       "      <td>None</td>\n",
       "      <td>707343.0</td>\n",
       "      <td>11thhour</td>\n",
       "      <td>15213.0</td>\n",
       "      <td>60853.0</td>\n",
       "      <td>NaN</td>\n",
       "      <td>None</td>\n",
       "      <td>2007-08-17</td>\n",
       "      <td>The 11th Hour</td>\n",
       "      <td>111.0</td>\n",
       "      <td>985207.0</td>\n",
       "      <td>2007.0</td>\n",
       "    </tr>\n",
       "    <tr>\n",
       "      <th>6</th>\n",
       "      <td>127 Hours (2010)</td>\n",
       "      <td>Danny Boyle</td>\n",
       "      <td>18335230.0</td>\n",
       "      <td>127hours</td>\n",
       "      <td>2333.0</td>\n",
       "      <td>2136801.0</td>\n",
       "      <td>18000000.0</td>\n",
       "      <td>2010-11-05</td>\n",
       "      <td>2011-01-28</td>\n",
       "      <td>127 Hours</td>\n",
       "      <td>916.0</td>\n",
       "      <td>60738797.0</td>\n",
       "      <td>2010.0</td>\n",
       "    </tr>\n",
       "    <tr>\n",
       "      <th>7</th>\n",
       "      <td>12 Rounds (2009)</td>\n",
       "      <td>Renny Harlin</td>\n",
       "      <td>12234694.0</td>\n",
       "      <td>12rounds</td>\n",
       "      <td>2286.0</td>\n",
       "      <td>5329240.0</td>\n",
       "      <td>NaN</td>\n",
       "      <td>None</td>\n",
       "      <td>2009-03-27</td>\n",
       "      <td>12 Rounds</td>\n",
       "      <td>2331.0</td>\n",
       "      <td>17280326.0</td>\n",
       "      <td>2009.0</td>\n",
       "    </tr>\n",
       "  </tbody>\n",
       "</table>\n",
       "</div>"
      ],
      "text/plain": [
       "                           alt_title         director  domestic_gross  \\\n",
       "0                 10,000 B.C. (2008)  Roland Emmerich      94784201.0   \n",
       "1              102 Dalmatians (2000)             None      66957026.0   \n",
       "2  10 Things I Hate About You (1999)             None      38178166.0   \n",
       "3                    10 Years (2012)     Jamie Linden        203373.0   \n",
       "4                  11 Flowers (2013)             None          9213.0   \n",
       "5               The 11th Hour (2007)             None        707343.0   \n",
       "6                   127 Hours (2010)      Danny Boyle      18335230.0   \n",
       "7                   12 Rounds (2009)     Renny Harlin      12234694.0   \n",
       "\n",
       "               mojo_slug  opening_per_theater  opening_weekend_take  \\\n",
       "0                10000bc              10518.0            35867488.0   \n",
       "1          102dalmatians               7353.0            19883351.0   \n",
       "2  10thingsihateaboutyou               3668.0             8330681.0   \n",
       "3                10years               7569.0               22707.0   \n",
       "4              11flowers               1758.0                3516.0   \n",
       "5               11thhour              15213.0               60853.0   \n",
       "6               127hours               2333.0             2136801.0   \n",
       "7               12rounds               2286.0             5329240.0   \n",
       "\n",
       "   production_budget release_date_limited release_date_wide  \\\n",
       "0        105000000.0                 None        2008-03-07   \n",
       "1         85000000.0                 None        2000-11-22   \n",
       "2         30000000.0                 None        1999-03-31   \n",
       "3                NaN                 None        2012-09-14   \n",
       "4                NaN                 None        2013-02-22   \n",
       "5                NaN                 None        2007-08-17   \n",
       "6         18000000.0           2010-11-05        2011-01-28   \n",
       "7                NaN                 None        2009-03-27   \n",
       "\n",
       "                        title  widest_release  worldwide_gross    year  \n",
       "0                 10,000 B.C.          3454.0      269784201.0  2008.0  \n",
       "1             102 Dalmatians           2704.0      183611771.0  2000.0  \n",
       "2  10 Things I Hate About You          2311.0       53478166.0  1999.0  \n",
       "3                    10 Years            63.0         203373.0  2012.0  \n",
       "4                 11 Flowers              2.0              NaN  2013.0  \n",
       "5               The 11th Hour           111.0         985207.0  2007.0  \n",
       "6                   127 Hours           916.0       60738797.0  2010.0  \n",
       "7                   12 Rounds          2331.0       17280326.0  2009.0  "
      ]
     },
     "execution_count": 28,
     "metadata": {},
     "output_type": "execute_result"
    }
   ],
   "source": [
    "movies_df.head(8)"
   ]
  },
  {
   "cell_type": "code",
   "execution_count": 29,
   "metadata": {
    "collapsed": false,
    "scrolled": true
   },
   "outputs": [
    {
     "data": {
      "text/plain": [
       "0               NaN\n",
       "1       -27827175.0\n",
       "2       -28778860.0\n",
       "3       -37974793.0\n",
       "4         -194160.0\n",
       "5          698130.0\n",
       "6        17627887.0\n",
       "7        -6100536.0\n",
       "8       -11431916.0\n",
       "9        56428969.0\n",
       "10      -57217938.0\n",
       "11       32685090.0\n",
       "12      -32577509.0\n",
       "13       71864238.0\n",
       "14      -35090487.0\n",
       "15       27271928.0\n",
       "16       -7212077.0\n",
       "17      109157175.0\n",
       "18     -132663081.0\n",
       "19      -32004498.0\n",
       "20        3501857.0\n",
       "21       76212920.0\n",
       "22      -55476985.0\n",
       "23       -9391904.0\n",
       "24      122157191.0\n",
       "25     -125363072.0\n",
       "26       63724059.0\n",
       "27      -39638166.0\n",
       "28        7894427.0\n",
       "29      -16425999.0\n",
       "           ...     \n",
       "3698   -100128964.0\n",
       "3699     25585006.0\n",
       "3700    -16518691.0\n",
       "3701     90835475.0\n",
       "3702    -59655027.0\n",
       "3703    -37934443.0\n",
       "3704     73198743.0\n",
       "3705    -59316539.0\n",
       "3706    -16250504.0\n",
       "3707     45600489.0\n",
       "3708    -34660284.0\n",
       "3709      7492734.0\n",
       "3710      3102439.0\n",
       "3711    -19960255.0\n",
       "3712     51776672.0\n",
       "3713    -38131576.0\n",
       "3714    -15252013.0\n",
       "3715    115792222.0\n",
       "3716   -115536344.0\n",
       "3717       438442.0\n",
       "3718     30734353.0\n",
       "3719     -2199077.0\n",
       "3720    -29216539.0\n",
       "3721       215376.0\n",
       "3722      -212558.0\n",
       "3723       -30201.0\n",
       "3724     75575339.0\n",
       "3725      4770557.0\n",
       "3726    -35188593.0\n",
       "3727    -33182922.0\n",
       "Name: domestic_gross, dtype: float64"
      ]
     },
     "execution_count": 29,
     "metadata": {},
     "output_type": "execute_result"
    }
   ],
   "source": [
    "movies_df['domestic_gross'].diff()"
   ]
  },
  {
   "cell_type": "code",
   "execution_count": 30,
   "metadata": {
    "collapsed": false
   },
   "outputs": [],
   "source": [
    "movies_df_yr = movies_df[np.isfinite(movies_df['domestic_gross'])].groupby(['year'])"
   ]
  },
  {
   "cell_type": "code",
   "execution_count": 31,
   "metadata": {
    "collapsed": false,
    "scrolled": true
   },
   "outputs": [
    {
     "data": {
      "text/html": [
       "<div>\n",
       "<table border=\"1\" class=\"dataframe\">\n",
       "  <thead>\n",
       "    <tr style=\"text-align: right;\">\n",
       "      <th></th>\n",
       "      <th>domestic_gross</th>\n",
       "      <th>opening_per_theater</th>\n",
       "      <th>opening_weekend_take</th>\n",
       "      <th>production_budget</th>\n",
       "      <th>widest_release</th>\n",
       "      <th>worldwide_gross</th>\n",
       "    </tr>\n",
       "    <tr>\n",
       "      <th>year</th>\n",
       "      <th></th>\n",
       "      <th></th>\n",
       "      <th></th>\n",
       "      <th></th>\n",
       "      <th></th>\n",
       "      <th></th>\n",
       "    </tr>\n",
       "  </thead>\n",
       "  <tbody>\n",
       "    <tr>\n",
       "      <th>1940.0</th>\n",
       "      <td>8.425417e+07</td>\n",
       "      <td>NaN</td>\n",
       "      <td>NaN</td>\n",
       "      <td>NaN</td>\n",
       "      <td>NaN</td>\n",
       "      <td>NaN</td>\n",
       "    </tr>\n",
       "    <tr>\n",
       "      <th>1953.0</th>\n",
       "      <td>8.740465e+07</td>\n",
       "      <td>NaN</td>\n",
       "      <td>NaN</td>\n",
       "      <td>4.000000e+06</td>\n",
       "      <td>NaN</td>\n",
       "      <td>NaN</td>\n",
       "    </tr>\n",
       "    <tr>\n",
       "      <th>1956.0</th>\n",
       "      <td>6.550000e+07</td>\n",
       "      <td>NaN</td>\n",
       "      <td>NaN</td>\n",
       "      <td>NaN</td>\n",
       "      <td>NaN</td>\n",
       "      <td>NaN</td>\n",
       "    </tr>\n",
       "    <tr>\n",
       "      <th>1959.0</th>\n",
       "      <td>5.160000e+07</td>\n",
       "      <td>NaN</td>\n",
       "      <td>NaN</td>\n",
       "      <td>NaN</td>\n",
       "      <td>NaN</td>\n",
       "      <td>NaN</td>\n",
       "    </tr>\n",
       "    <tr>\n",
       "      <th>1960.0</th>\n",
       "      <td>3.200000e+07</td>\n",
       "      <td>NaN</td>\n",
       "      <td>NaN</td>\n",
       "      <td>8.069470e+05</td>\n",
       "      <td>NaN</td>\n",
       "      <td>NaN</td>\n",
       "    </tr>\n",
       "    <tr>\n",
       "      <th>1964.0</th>\n",
       "      <td>1.087811e+07</td>\n",
       "      <td>NaN</td>\n",
       "      <td>NaN</td>\n",
       "      <td>NaN</td>\n",
       "      <td>NaN</td>\n",
       "      <td>1.087811e+07</td>\n",
       "    </tr>\n",
       "    <tr>\n",
       "      <th>1967.0</th>\n",
       "      <td>1.049453e+08</td>\n",
       "      <td>NaN</td>\n",
       "      <td>NaN</td>\n",
       "      <td>NaN</td>\n",
       "      <td>NaN</td>\n",
       "      <td>NaN</td>\n",
       "    </tr>\n",
       "    <tr>\n",
       "      <th>1968.0</th>\n",
       "      <td>4.477231e+07</td>\n",
       "      <td>NaN</td>\n",
       "      <td>NaN</td>\n",
       "      <td>1.200000e+07</td>\n",
       "      <td>NaN</td>\n",
       "      <td>3.258962e+07</td>\n",
       "    </tr>\n",
       "    <tr>\n",
       "      <th>1969.0</th>\n",
       "      <td>1.023089e+08</td>\n",
       "      <td>NaN</td>\n",
       "      <td>NaN</td>\n",
       "      <td>NaN</td>\n",
       "      <td>NaN</td>\n",
       "      <td>NaN</td>\n",
       "    </tr>\n",
       "    <tr>\n",
       "      <th>1970.0</th>\n",
       "      <td>6.012515e+07</td>\n",
       "      <td>NaN</td>\n",
       "      <td>NaN</td>\n",
       "      <td>7.750000e+06</td>\n",
       "      <td>NaN</td>\n",
       "      <td>NaN</td>\n",
       "    </tr>\n",
       "    <tr>\n",
       "      <th>1971.0</th>\n",
       "      <td>2.437000e+06</td>\n",
       "      <td>NaN</td>\n",
       "      <td>NaN</td>\n",
       "      <td>NaN</td>\n",
       "      <td>NaN</td>\n",
       "      <td>NaN</td>\n",
       "    </tr>\n",
       "    <tr>\n",
       "      <th>1972.0</th>\n",
       "      <td>8.077788e+07</td>\n",
       "      <td>50398.000000</td>\n",
       "      <td>3.023930e+05</td>\n",
       "      <td>4.100000e+06</td>\n",
       "      <td>NaN</td>\n",
       "      <td>2.450664e+08</td>\n",
       "    </tr>\n",
       "    <tr>\n",
       "      <th>1974.0</th>\n",
       "      <td>2.429784e+07</td>\n",
       "      <td>NaN</td>\n",
       "      <td>NaN</td>\n",
       "      <td>NaN</td>\n",
       "      <td>NaN</td>\n",
       "      <td>NaN</td>\n",
       "    </tr>\n",
       "    <tr>\n",
       "      <th>1975.0</th>\n",
       "      <td>1.606245e+08</td>\n",
       "      <td>9111.000000</td>\n",
       "      <td>6.150000e+06</td>\n",
       "      <td>5.000000e+06</td>\n",
       "      <td>675.000000</td>\n",
       "      <td>2.917727e+08</td>\n",
       "    </tr>\n",
       "    <tr>\n",
       "      <th>1976.0</th>\n",
       "      <td>3.308962e+07</td>\n",
       "      <td>8298.000000</td>\n",
       "      <td>4.273886e+06</td>\n",
       "      <td>NaN</td>\n",
       "      <td>515.000000</td>\n",
       "      <td>4.231144e+07</td>\n",
       "    </tr>\n",
       "    <tr>\n",
       "      <th>1977.0</th>\n",
       "      <td>8.408127e+07</td>\n",
       "      <td>3495.000000</td>\n",
       "      <td>2.538000e+06</td>\n",
       "      <td>2.000000e+07</td>\n",
       "      <td>688.000000</td>\n",
       "      <td>2.704509e+08</td>\n",
       "    </tr>\n",
       "    <tr>\n",
       "      <th>1978.0</th>\n",
       "      <td>9.399996e+07</td>\n",
       "      <td>13842.000000</td>\n",
       "      <td>5.251346e+06</td>\n",
       "      <td>1.908125e+07</td>\n",
       "      <td>839.500000</td>\n",
       "      <td>2.473912e+08</td>\n",
       "    </tr>\n",
       "    <tr>\n",
       "      <th>1979.0</th>\n",
       "      <td>5.518638e+07</td>\n",
       "      <td>12007.200000</td>\n",
       "      <td>5.117921e+06</td>\n",
       "      <td>2.300000e+07</td>\n",
       "      <td>851.250000</td>\n",
       "      <td>6.317148e+07</td>\n",
       "    </tr>\n",
       "    <tr>\n",
       "      <th>1980.0</th>\n",
       "      <td>2.536136e+07</td>\n",
       "      <td>19145.900000</td>\n",
       "      <td>1.981036e+06</td>\n",
       "      <td>2.050000e+07</td>\n",
       "      <td>901.000000</td>\n",
       "      <td>1.553519e+07</td>\n",
       "    </tr>\n",
       "    <tr>\n",
       "      <th>1981.0</th>\n",
       "      <td>4.521761e+07</td>\n",
       "      <td>6219.750000</td>\n",
       "      <td>3.751445e+06</td>\n",
       "      <td>1.800000e+07</td>\n",
       "      <td>1055.333333</td>\n",
       "      <td>1.329976e+08</td>\n",
       "    </tr>\n",
       "    <tr>\n",
       "      <th>1982.0</th>\n",
       "      <td>6.539599e+07</td>\n",
       "      <td>6751.111111</td>\n",
       "      <td>4.131594e+06</td>\n",
       "      <td>1.587500e+07</td>\n",
       "      <td>942.333333</td>\n",
       "      <td>2.549610e+08</td>\n",
       "    </tr>\n",
       "    <tr>\n",
       "      <th>1983.0</th>\n",
       "      <td>3.595442e+07</td>\n",
       "      <td>6329.944444</td>\n",
       "      <td>3.887116e+06</td>\n",
       "      <td>8.066667e+06</td>\n",
       "      <td>919.000000</td>\n",
       "      <td>3.414235e+07</td>\n",
       "    </tr>\n",
       "    <tr>\n",
       "      <th>1984.0</th>\n",
       "      <td>7.444772e+07</td>\n",
       "      <td>5992.000000</td>\n",
       "      <td>6.994715e+06</td>\n",
       "      <td>1.815000e+07</td>\n",
       "      <td>1141.000000</td>\n",
       "      <td>2.557629e+08</td>\n",
       "    </tr>\n",
       "    <tr>\n",
       "      <th>1985.0</th>\n",
       "      <td>4.499913e+07</td>\n",
       "      <td>12833.000000</td>\n",
       "      <td>4.010608e+06</td>\n",
       "      <td>1.900000e+07</td>\n",
       "      <td>996.666667</td>\n",
       "      <td>2.163175e+08</td>\n",
       "    </tr>\n",
       "    <tr>\n",
       "      <th>1986.0</th>\n",
       "      <td>2.821690e+07</td>\n",
       "      <td>5579.857143</td>\n",
       "      <td>3.566189e+06</td>\n",
       "      <td>1.000000e+07</td>\n",
       "      <td>1001.000000</td>\n",
       "      <td>4.837693e+07</td>\n",
       "    </tr>\n",
       "    <tr>\n",
       "      <th>1987.0</th>\n",
       "      <td>3.560030e+07</td>\n",
       "      <td>7791.888889</td>\n",
       "      <td>4.055580e+06</td>\n",
       "      <td>2.380000e+07</td>\n",
       "      <td>865.666667</td>\n",
       "      <td>1.091455e+08</td>\n",
       "    </tr>\n",
       "    <tr>\n",
       "      <th>1988.0</th>\n",
       "      <td>4.797206e+07</td>\n",
       "      <td>7146.103448</td>\n",
       "      <td>5.764481e+06</td>\n",
       "      <td>2.860000e+07</td>\n",
       "      <td>1168.379310</td>\n",
       "      <td>1.682044e+08</td>\n",
       "    </tr>\n",
       "    <tr>\n",
       "      <th>1989.0</th>\n",
       "      <td>5.973176e+07</td>\n",
       "      <td>10073.428571</td>\n",
       "      <td>7.942602e+06</td>\n",
       "      <td>2.822600e+07</td>\n",
       "      <td>1081.862069</td>\n",
       "      <td>1.950226e+08</td>\n",
       "    </tr>\n",
       "    <tr>\n",
       "      <th>1990.0</th>\n",
       "      <td>8.062443e+07</td>\n",
       "      <td>8653.375000</td>\n",
       "      <td>9.948640e+06</td>\n",
       "      <td>2.994444e+07</td>\n",
       "      <td>1532.791667</td>\n",
       "      <td>2.566523e+08</td>\n",
       "    </tr>\n",
       "    <tr>\n",
       "      <th>1991.0</th>\n",
       "      <td>4.701748e+07</td>\n",
       "      <td>8203.136364</td>\n",
       "      <td>7.258328e+06</td>\n",
       "      <td>4.300000e+07</td>\n",
       "      <td>1183.695652</td>\n",
       "      <td>2.051381e+08</td>\n",
       "    </tr>\n",
       "    <tr>\n",
       "      <th>1992.0</th>\n",
       "      <td>4.828016e+07</td>\n",
       "      <td>8800.500000</td>\n",
       "      <td>7.962948e+06</td>\n",
       "      <td>3.246667e+07</td>\n",
       "      <td>1285.071429</td>\n",
       "      <td>1.907416e+08</td>\n",
       "    </tr>\n",
       "    <tr>\n",
       "      <th>1993.0</th>\n",
       "      <td>5.654347e+07</td>\n",
       "      <td>7712.611111</td>\n",
       "      <td>8.567055e+06</td>\n",
       "      <td>3.466667e+07</td>\n",
       "      <td>1238.657895</td>\n",
       "      <td>2.440322e+08</td>\n",
       "    </tr>\n",
       "    <tr>\n",
       "      <th>1994.0</th>\n",
       "      <td>8.657553e+07</td>\n",
       "      <td>7639.724138</td>\n",
       "      <td>1.361368e+07</td>\n",
       "      <td>3.477135e+07</td>\n",
       "      <td>1824.413793</td>\n",
       "      <td>2.624631e+08</td>\n",
       "    </tr>\n",
       "    <tr>\n",
       "      <th>1995.0</th>\n",
       "      <td>4.771532e+07</td>\n",
       "      <td>7215.591837</td>\n",
       "      <td>1.016862e+07</td>\n",
       "      <td>4.285294e+07</td>\n",
       "      <td>1542.673469</td>\n",
       "      <td>1.834565e+08</td>\n",
       "    </tr>\n",
       "    <tr>\n",
       "      <th>1996.0</th>\n",
       "      <td>5.292326e+07</td>\n",
       "      <td>7590.254902</td>\n",
       "      <td>9.721439e+06</td>\n",
       "      <td>3.437895e+07</td>\n",
       "      <td>1482.176471</td>\n",
       "      <td>2.222001e+08</td>\n",
       "    </tr>\n",
       "    <tr>\n",
       "      <th>1997.0</th>\n",
       "      <td>6.082685e+07</td>\n",
       "      <td>8386.069444</td>\n",
       "      <td>1.254583e+07</td>\n",
       "      <td>5.642857e+07</td>\n",
       "      <td>1857.027397</td>\n",
       "      <td>2.404145e+08</td>\n",
       "    </tr>\n",
       "    <tr>\n",
       "      <th>1998.0</th>\n",
       "      <td>5.065617e+07</td>\n",
       "      <td>7262.365854</td>\n",
       "      <td>1.216818e+07</td>\n",
       "      <td>6.209459e+07</td>\n",
       "      <td>1852.365854</td>\n",
       "      <td>1.737569e+08</td>\n",
       "    </tr>\n",
       "    <tr>\n",
       "      <th>1999.0</th>\n",
       "      <td>5.025999e+07</td>\n",
       "      <td>6967.365385</td>\n",
       "      <td>1.071755e+07</td>\n",
       "      <td>5.103935e+07</td>\n",
       "      <td>1711.839623</td>\n",
       "      <td>1.519531e+08</td>\n",
       "    </tr>\n",
       "    <tr>\n",
       "      <th>2000.0</th>\n",
       "      <td>4.980720e+07</td>\n",
       "      <td>7812.197917</td>\n",
       "      <td>1.157024e+07</td>\n",
       "      <td>4.927867e+07</td>\n",
       "      <td>1846.642857</td>\n",
       "      <td>1.059734e+08</td>\n",
       "    </tr>\n",
       "    <tr>\n",
       "      <th>2001.0</th>\n",
       "      <td>5.017522e+07</td>\n",
       "      <td>8251.245283</td>\n",
       "      <td>1.296169e+07</td>\n",
       "      <td>4.724932e+07</td>\n",
       "      <td>1828.841121</td>\n",
       "      <td>1.027075e+08</td>\n",
       "    </tr>\n",
       "    <tr>\n",
       "      <th>2002.0</th>\n",
       "      <td>4.169306e+07</td>\n",
       "      <td>7356.369231</td>\n",
       "      <td>1.057583e+07</td>\n",
       "      <td>4.093886e+07</td>\n",
       "      <td>1723.015152</td>\n",
       "      <td>8.445808e+07</td>\n",
       "    </tr>\n",
       "    <tr>\n",
       "      <th>2003.0</th>\n",
       "      <td>4.780754e+07</td>\n",
       "      <td>8238.244755</td>\n",
       "      <td>1.344025e+07</td>\n",
       "      <td>4.885337e+07</td>\n",
       "      <td>1787.840278</td>\n",
       "      <td>1.033422e+08</td>\n",
       "    </tr>\n",
       "    <tr>\n",
       "      <th>2004.0</th>\n",
       "      <td>4.447975e+07</td>\n",
       "      <td>8289.725000</td>\n",
       "      <td>1.247118e+07</td>\n",
       "      <td>4.890463e+07</td>\n",
       "      <td>1724.062112</td>\n",
       "      <td>9.605237e+07</td>\n",
       "    </tr>\n",
       "    <tr>\n",
       "      <th>2005.0</th>\n",
       "      <td>3.433146e+07</td>\n",
       "      <td>8380.335404</td>\n",
       "      <td>9.716044e+06</td>\n",
       "      <td>4.551813e+07</td>\n",
       "      <td>1638.384146</td>\n",
       "      <td>7.354571e+07</td>\n",
       "    </tr>\n",
       "    <tr>\n",
       "      <th>2006.0</th>\n",
       "      <td>3.216025e+07</td>\n",
       "      <td>7268.148352</td>\n",
       "      <td>9.022232e+06</td>\n",
       "      <td>4.343391e+07</td>\n",
       "      <td>1646.380435</td>\n",
       "      <td>6.963378e+07</td>\n",
       "    </tr>\n",
       "    <tr>\n",
       "      <th>2007.0</th>\n",
       "      <td>3.147446e+07</td>\n",
       "      <td>7495.425532</td>\n",
       "      <td>8.868010e+06</td>\n",
       "      <td>4.734692e+07</td>\n",
       "      <td>1516.409574</td>\n",
       "      <td>6.885253e+07</td>\n",
       "    </tr>\n",
       "    <tr>\n",
       "      <th>2008.0</th>\n",
       "      <td>3.882922e+07</td>\n",
       "      <td>7134.696809</td>\n",
       "      <td>1.153618e+07</td>\n",
       "      <td>5.228681e+07</td>\n",
       "      <td>1631.227513</td>\n",
       "      <td>9.055941e+07</td>\n",
       "    </tr>\n",
       "    <tr>\n",
       "      <th>2009.0</th>\n",
       "      <td>3.793967e+07</td>\n",
       "      <td>8452.382199</td>\n",
       "      <td>1.052658e+07</td>\n",
       "      <td>5.433873e+07</td>\n",
       "      <td>1460.706806</td>\n",
       "      <td>9.442813e+07</td>\n",
       "    </tr>\n",
       "    <tr>\n",
       "      <th>2010.0</th>\n",
       "      <td>2.866817e+07</td>\n",
       "      <td>8840.965854</td>\n",
       "      <td>8.421490e+06</td>\n",
       "      <td>3.961358e+07</td>\n",
       "      <td>1165.336585</td>\n",
       "      <td>7.984319e+07</td>\n",
       "    </tr>\n",
       "    <tr>\n",
       "      <th>2011.0</th>\n",
       "      <td>2.043571e+07</td>\n",
       "      <td>9046.492188</td>\n",
       "      <td>6.497735e+06</td>\n",
       "      <td>4.020198e+07</td>\n",
       "      <td>972.618321</td>\n",
       "      <td>5.735592e+07</td>\n",
       "    </tr>\n",
       "    <tr>\n",
       "      <th>2012.0</th>\n",
       "      <td>2.278138e+07</td>\n",
       "      <td>7178.453061</td>\n",
       "      <td>6.897247e+06</td>\n",
       "      <td>4.846557e+07</td>\n",
       "      <td>943.028226</td>\n",
       "      <td>6.492304e+07</td>\n",
       "    </tr>\n",
       "    <tr>\n",
       "      <th>2013.0</th>\n",
       "      <td>1.936209e+07</td>\n",
       "      <td>6408.463918</td>\n",
       "      <td>5.885889e+06</td>\n",
       "      <td>5.382468e+07</td>\n",
       "      <td>864.158784</td>\n",
       "      <td>6.817028e+07</td>\n",
       "    </tr>\n",
       "    <tr>\n",
       "      <th>2014.0</th>\n",
       "      <td>1.759578e+07</td>\n",
       "      <td>6701.678161</td>\n",
       "      <td>5.326039e+06</td>\n",
       "      <td>4.566935e+07</td>\n",
       "      <td>877.405204</td>\n",
       "      <td>6.048556e+07</td>\n",
       "    </tr>\n",
       "    <tr>\n",
       "      <th>2015.0</th>\n",
       "      <td>1.484144e+07</td>\n",
       "      <td>8709.530612</td>\n",
       "      <td>6.452287e+06</td>\n",
       "      <td>4.919231e+07</td>\n",
       "      <td>1088.720000</td>\n",
       "      <td>5.140457e+07</td>\n",
       "    </tr>\n",
       "  </tbody>\n",
       "</table>\n",
       "</div>"
      ],
      "text/plain": [
       "        domestic_gross  opening_per_theater  opening_weekend_take  \\\n",
       "year                                                                \n",
       "1940.0    8.425417e+07                  NaN                   NaN   \n",
       "1953.0    8.740465e+07                  NaN                   NaN   \n",
       "1956.0    6.550000e+07                  NaN                   NaN   \n",
       "1959.0    5.160000e+07                  NaN                   NaN   \n",
       "1960.0    3.200000e+07                  NaN                   NaN   \n",
       "1964.0    1.087811e+07                  NaN                   NaN   \n",
       "1967.0    1.049453e+08                  NaN                   NaN   \n",
       "1968.0    4.477231e+07                  NaN                   NaN   \n",
       "1969.0    1.023089e+08                  NaN                   NaN   \n",
       "1970.0    6.012515e+07                  NaN                   NaN   \n",
       "1971.0    2.437000e+06                  NaN                   NaN   \n",
       "1972.0    8.077788e+07         50398.000000          3.023930e+05   \n",
       "1974.0    2.429784e+07                  NaN                   NaN   \n",
       "1975.0    1.606245e+08          9111.000000          6.150000e+06   \n",
       "1976.0    3.308962e+07          8298.000000          4.273886e+06   \n",
       "1977.0    8.408127e+07          3495.000000          2.538000e+06   \n",
       "1978.0    9.399996e+07         13842.000000          5.251346e+06   \n",
       "1979.0    5.518638e+07         12007.200000          5.117921e+06   \n",
       "1980.0    2.536136e+07         19145.900000          1.981036e+06   \n",
       "1981.0    4.521761e+07          6219.750000          3.751445e+06   \n",
       "1982.0    6.539599e+07          6751.111111          4.131594e+06   \n",
       "1983.0    3.595442e+07          6329.944444          3.887116e+06   \n",
       "1984.0    7.444772e+07          5992.000000          6.994715e+06   \n",
       "1985.0    4.499913e+07         12833.000000          4.010608e+06   \n",
       "1986.0    2.821690e+07          5579.857143          3.566189e+06   \n",
       "1987.0    3.560030e+07          7791.888889          4.055580e+06   \n",
       "1988.0    4.797206e+07          7146.103448          5.764481e+06   \n",
       "1989.0    5.973176e+07         10073.428571          7.942602e+06   \n",
       "1990.0    8.062443e+07          8653.375000          9.948640e+06   \n",
       "1991.0    4.701748e+07          8203.136364          7.258328e+06   \n",
       "1992.0    4.828016e+07          8800.500000          7.962948e+06   \n",
       "1993.0    5.654347e+07          7712.611111          8.567055e+06   \n",
       "1994.0    8.657553e+07          7639.724138          1.361368e+07   \n",
       "1995.0    4.771532e+07          7215.591837          1.016862e+07   \n",
       "1996.0    5.292326e+07          7590.254902          9.721439e+06   \n",
       "1997.0    6.082685e+07          8386.069444          1.254583e+07   \n",
       "1998.0    5.065617e+07          7262.365854          1.216818e+07   \n",
       "1999.0    5.025999e+07          6967.365385          1.071755e+07   \n",
       "2000.0    4.980720e+07          7812.197917          1.157024e+07   \n",
       "2001.0    5.017522e+07          8251.245283          1.296169e+07   \n",
       "2002.0    4.169306e+07          7356.369231          1.057583e+07   \n",
       "2003.0    4.780754e+07          8238.244755          1.344025e+07   \n",
       "2004.0    4.447975e+07          8289.725000          1.247118e+07   \n",
       "2005.0    3.433146e+07          8380.335404          9.716044e+06   \n",
       "2006.0    3.216025e+07          7268.148352          9.022232e+06   \n",
       "2007.0    3.147446e+07          7495.425532          8.868010e+06   \n",
       "2008.0    3.882922e+07          7134.696809          1.153618e+07   \n",
       "2009.0    3.793967e+07          8452.382199          1.052658e+07   \n",
       "2010.0    2.866817e+07          8840.965854          8.421490e+06   \n",
       "2011.0    2.043571e+07          9046.492188          6.497735e+06   \n",
       "2012.0    2.278138e+07          7178.453061          6.897247e+06   \n",
       "2013.0    1.936209e+07          6408.463918          5.885889e+06   \n",
       "2014.0    1.759578e+07          6701.678161          5.326039e+06   \n",
       "2015.0    1.484144e+07          8709.530612          6.452287e+06   \n",
       "\n",
       "        production_budget  widest_release  worldwide_gross  \n",
       "year                                                        \n",
       "1940.0                NaN             NaN              NaN  \n",
       "1953.0       4.000000e+06             NaN              NaN  \n",
       "1956.0                NaN             NaN              NaN  \n",
       "1959.0                NaN             NaN              NaN  \n",
       "1960.0       8.069470e+05             NaN              NaN  \n",
       "1964.0                NaN             NaN     1.087811e+07  \n",
       "1967.0                NaN             NaN              NaN  \n",
       "1968.0       1.200000e+07             NaN     3.258962e+07  \n",
       "1969.0                NaN             NaN              NaN  \n",
       "1970.0       7.750000e+06             NaN              NaN  \n",
       "1971.0                NaN             NaN              NaN  \n",
       "1972.0       4.100000e+06             NaN     2.450664e+08  \n",
       "1974.0                NaN             NaN              NaN  \n",
       "1975.0       5.000000e+06      675.000000     2.917727e+08  \n",
       "1976.0                NaN      515.000000     4.231144e+07  \n",
       "1977.0       2.000000e+07      688.000000     2.704509e+08  \n",
       "1978.0       1.908125e+07      839.500000     2.473912e+08  \n",
       "1979.0       2.300000e+07      851.250000     6.317148e+07  \n",
       "1980.0       2.050000e+07      901.000000     1.553519e+07  \n",
       "1981.0       1.800000e+07     1055.333333     1.329976e+08  \n",
       "1982.0       1.587500e+07      942.333333     2.549610e+08  \n",
       "1983.0       8.066667e+06      919.000000     3.414235e+07  \n",
       "1984.0       1.815000e+07     1141.000000     2.557629e+08  \n",
       "1985.0       1.900000e+07      996.666667     2.163175e+08  \n",
       "1986.0       1.000000e+07     1001.000000     4.837693e+07  \n",
       "1987.0       2.380000e+07      865.666667     1.091455e+08  \n",
       "1988.0       2.860000e+07     1168.379310     1.682044e+08  \n",
       "1989.0       2.822600e+07     1081.862069     1.950226e+08  \n",
       "1990.0       2.994444e+07     1532.791667     2.566523e+08  \n",
       "1991.0       4.300000e+07     1183.695652     2.051381e+08  \n",
       "1992.0       3.246667e+07     1285.071429     1.907416e+08  \n",
       "1993.0       3.466667e+07     1238.657895     2.440322e+08  \n",
       "1994.0       3.477135e+07     1824.413793     2.624631e+08  \n",
       "1995.0       4.285294e+07     1542.673469     1.834565e+08  \n",
       "1996.0       3.437895e+07     1482.176471     2.222001e+08  \n",
       "1997.0       5.642857e+07     1857.027397     2.404145e+08  \n",
       "1998.0       6.209459e+07     1852.365854     1.737569e+08  \n",
       "1999.0       5.103935e+07     1711.839623     1.519531e+08  \n",
       "2000.0       4.927867e+07     1846.642857     1.059734e+08  \n",
       "2001.0       4.724932e+07     1828.841121     1.027075e+08  \n",
       "2002.0       4.093886e+07     1723.015152     8.445808e+07  \n",
       "2003.0       4.885337e+07     1787.840278     1.033422e+08  \n",
       "2004.0       4.890463e+07     1724.062112     9.605237e+07  \n",
       "2005.0       4.551813e+07     1638.384146     7.354571e+07  \n",
       "2006.0       4.343391e+07     1646.380435     6.963378e+07  \n",
       "2007.0       4.734692e+07     1516.409574     6.885253e+07  \n",
       "2008.0       5.228681e+07     1631.227513     9.055941e+07  \n",
       "2009.0       5.433873e+07     1460.706806     9.442813e+07  \n",
       "2010.0       3.961358e+07     1165.336585     7.984319e+07  \n",
       "2011.0       4.020198e+07      972.618321     5.735592e+07  \n",
       "2012.0       4.846557e+07      943.028226     6.492304e+07  \n",
       "2013.0       5.382468e+07      864.158784     6.817028e+07  \n",
       "2014.0       4.566935e+07      877.405204     6.048556e+07  \n",
       "2015.0       4.919231e+07     1088.720000     5.140457e+07  "
      ]
     },
     "execution_count": 31,
     "metadata": {},
     "output_type": "execute_result"
    }
   ],
   "source": [
    "movies_df_yr.mean()"
   ]
  },
  {
   "cell_type": "code",
   "execution_count": 32,
   "metadata": {
    "collapsed": false
   },
   "outputs": [],
   "source": [
    "movies_dom_ave = movies_df_yr.mean()['domestic_gross']"
   ]
  },
  {
   "cell_type": "code",
   "execution_count": 33,
   "metadata": {
    "collapsed": false
   },
   "outputs": [
    {
     "data": {
      "text/plain": [
       "<matplotlib.axes._subplots.AxesSubplot at 0x11aa8dcd0>"
      ]
     },
     "execution_count": 33,
     "metadata": {},
     "output_type": "execute_result"
    },
    {
     "data": {
      "image/png": "[encoded data removed]",
      "text/plain": [
       "<matplotlib.figure.Figure at 0x119abe650>"
      ]
     },
     "metadata": {},
     "output_type": "display_data"
    }
   ],
   "source": [
    "movies_dom_ave.plot()"
   ]
  },
  {
   "cell_type": "markdown",
   "metadata": {},
   "source": [
    "#### Challenge 9\n",
    "\n",
    "Make a scatterplot of the opening weekend take versus domestic gross\n",
    "for all the movies. Also report on how many movies have both of these\n",
    "values (how many are you losing since one of these is missing)."
   ]
  },
  {
   "cell_type": "code",
   "execution_count": 34,
   "metadata": {
    "collapsed": false
   },
   "outputs": [],
   "source": [
    "movies_df.quantile?"
   ]
  },
  {
   "cell_type": "code",
   "execution_count": 35,
   "metadata": {
    "collapsed": false
   },
   "outputs": [
    {
     "data": {
      "text/plain": [
       "49662533.0"
      ]
     },
     "execution_count": 35,
     "metadata": {},
     "output_type": "execute_result"
    }
   ],
   "source": [
    "movies_df[np.isfinite(movies_df['domestic_gross'])]['domestic_gross'].quantile(q=0.75)"
   ]
  },
  {
   "cell_type": "code",
   "execution_count": 36,
   "metadata": {
    "collapsed": false
   },
   "outputs": [
    {
     "data": {
      "text/plain": [
       "<matplotlib.axes._subplots.AxesSubplot at 0x11a4bce90>"
      ]
     },
     "execution_count": 36,
     "metadata": {},
     "output_type": "execute_result"
    },
    {
     "data": {
      "image/png": "[encoded data removed]",
      "text/plain": [
       "<matplotlib.figure.Figure at 0x119aa2f90>"
      ]
     },
     "metadata": {},
     "output_type": "display_data"
    }
   ],
   "source": [
    "movies_df.plot.scatter('domestic_gross','opening_weekend_take')"
   ]
  },
  {
   "cell_type": "code",
   "execution_count": 37,
   "metadata": {
    "collapsed": false
   },
   "outputs": [
    {
     "data": {
      "text/plain": [
       "alt_title               3653\n",
       "director                2143\n",
       "domestic_gross          3653\n",
       "mojo_slug               3653\n",
       "opening_per_theater     3548\n",
       "opening_weekend_take    3548\n",
       "production_budget       1588\n",
       "release_date_limited     293\n",
       "release_date_wide       3650\n",
       "title                   3653\n",
       "widest_release          3576\n",
       "worldwide_gross         2813\n",
       "year                    3653\n",
       "dtype: int64"
      ]
     },
     "execution_count": 37,
     "metadata": {},
     "output_type": "execute_result"
    }
   ],
   "source": [
    "movies_df[np.isfinite(movies_df['domestic_gross'])].count()"
   ]
  },
  {
   "cell_type": "code",
   "execution_count": 38,
   "metadata": {
    "collapsed": false
   },
   "outputs": [
    {
     "data": {
      "text/plain": [
       "alt_title               3548\n",
       "director                2116\n",
       "domestic_gross          3548\n",
       "mojo_slug               3548\n",
       "opening_per_theater     3548\n",
       "opening_weekend_take    3548\n",
       "production_budget       1574\n",
       "release_date_limited     292\n",
       "release_date_wide       3546\n",
       "title                   3548\n",
       "widest_release          3530\n",
       "worldwide_gross         2781\n",
       "year                    3548\n",
       "dtype: int64"
      ]
     },
     "execution_count": 38,
     "metadata": {},
     "output_type": "execute_result"
    }
   ],
   "source": [
    "movies_df[np.isfinite(movies_df['opening_weekend_take'])].count()"
   ]
  },
  {
   "cell_type": "code",
   "execution_count": null,
   "metadata": {
    "collapsed": true
   },
   "outputs": [],
   "source": []
  },
  {
   "cell_type": "markdown",
   "metadata": {},
   "source": [
    "## Switching to Regression Before Challenge 10\n",
    "\n",
    "Ok. Let's do a linear regression. There are two main packages for that\n",
    "in python. `statsmodels` imitates R in terms of its interface, and\n",
    "gives a lot of information/diagnostics in a neat table. It is mostly\n",
    "good for linear and logistic regression, and generalized linear models\n",
    "in general. `scikit.learn` is python's big machine learning\n",
    "library. It has a lot of machine learning algorithms (including linear\n",
    "regression), uses the same interface for all of them (makes it very\n",
    "easy), and is very actively developed, with more features added very\n",
    "frequently. It's main disadvantage is that it does not provide a\n",
    "summary table like `statsmodels`.\n",
    "\n",
    "Let's start with statsmodels. Make a dataframe called df that has both\n",
    "the opening weekend take and the domestic gross columns, and drop all\n",
    "rows with missing data. Call this new dataframe `df`. Now let's fit a model.\n",
    "\n",
    "    import statsmodels.api as sm\n",
    "\n",
    "    Y = df.domestic_gross\n",
    "    X = sm.add_constant(df.opening_weekend_take)\n",
    "\n",
    "    linmodel = sm.OLS(Y,X).fit()\n",
    "\n",
    "We are taking the domestic_gross column as our Y variable. X will be a matrix\n",
    "including all feature columns. But why did we not do  `X =\n",
    "df.opening_weekend_take`? Well, `statsmodels` does not like to treat\n",
    "the intercept as a special part of the model. As a design choice, it\n",
    "wants to treat is just like any other feature that you multiply with a\n",
    "parameter, however the value for this feature is always one. So, to\n",
    "have an intercept, you would have to andd a column that has the value\n",
    "1 for every row. To make it easy to do so, they added this\n",
    "`add_constant` function, which does exactly that. So now our X is a\n",
    "matrix with two columns: opening weekend take, and a constant column\n",
    "that's all 1s.\n",
    "\n",
    "The fitting is done in one line. Note that Y comes before X. This is\n",
    "the `statsmodels` design choice (`scikit.learn` does it the other\n",
    "way).\n",
    "We now have a linear model trained on\n",
    "the X and Y data.\n",
    "\n",
    "Switch to a new cell and execute\n",
    " \n",
    "    linmodel.summary()\n",
    "\n",
    "This is the table that statsmodels presents with a lot of information\n",
    "about the model. You are likely to recognize some or most of\n",
    "these reported metrics. Later in class, we will go over each of them\n",
    "to make sure there are no gaps left.\n",
    "\n",
    "And finally, switch to a new cell:\n",
    "\n",
    "    predicted_gross = linmodel.predict(X)\n",
    "    plt.scatter(df.opening_weekend_take, df.domestic_gross, color='gray')\n",
    "    plt.plot(df.opening_weekend_take, predicted_gross)\n",
    "    plt.title(\"Opening Weekend Based Model for Domestic Gross\")\n",
    "    plt.xlabel(\"Opening Weekend Take ($100M)\")\n",
    "    plt.ylabel(\"Domestic Gross ($100M)\")\n",
    "\n",
    "Here we are first getting the predictions for each movie that we used\n",
    "in fitting. We are basically asking, what is the expected value that\n",
    "the model thinks is for this opening_weekend_take?\n",
    "We then make a scatterplot of all movies in a gray color to pepper the\n",
    "background showing where observed values fall.\n",
    "Next, we plot the predictions (which form a line since this is a\n",
    "single feature model).\n",
    "Finally we add a title and labels.\n",
    "\n",
    "You are now ready to continue with the challenges."
   ]
  },
  {
   "cell_type": "code",
   "execution_count": 39,
   "metadata": {
    "collapsed": true
   },
   "outputs": [],
   "source": [
    "df = movies_df[['opening_weekend_take','domestic_gross']]"
   ]
  },
  {
   "cell_type": "code",
   "execution_count": 40,
   "metadata": {
    "collapsed": false
   },
   "outputs": [
    {
     "data": {
      "text/plain": [
       "opening_weekend_take    3548\n",
       "domestic_gross          3548\n",
       "dtype: int64"
      ]
     },
     "execution_count": 40,
     "metadata": {},
     "output_type": "execute_result"
    }
   ],
   "source": [
    "df = df.dropna(axis=0)\n",
    "df.count()"
   ]
  },
  {
   "cell_type": "code",
   "execution_count": 41,
   "metadata": {
    "collapsed": true
   },
   "outputs": [],
   "source": [
    "import statsmodels.api as sm"
   ]
  },
  {
   "cell_type": "code",
   "execution_count": 42,
   "metadata": {
    "collapsed": true
   },
   "outputs": [],
   "source": [
    "Y = df.domestic_gross\n",
    "X = sm.add_constant(df.opening_weekend_take)"
   ]
  },
  {
   "cell_type": "code",
   "execution_count": 43,
   "metadata": {
    "collapsed": false
   },
   "outputs": [],
   "source": [
    "linmodel = sm.OLS(Y,X).fit()"
   ]
  },
  {
   "cell_type": "code",
   "execution_count": 44,
   "metadata": {
    "collapsed": false
   },
   "outputs": [
    {
     "data": {
      "text/html": [
       "<table class=\"simpletable\">\n",
       "<caption>OLS Regression Results</caption>\n",
       "<tr>\n",
       "  <th>Dep. Variable:</th>     <td>domestic_gross</td>  <th>  R-squared:         </th> <td>   0.729</td> \n",
       "</tr>\n",
       "<tr>\n",
       "  <th>Model:</th>                   <td>OLS</td>       <th>  Adj. R-squared:    </th> <td>   0.729</td> \n",
       "</tr>\n",
       "<tr>\n",
       "  <th>Method:</th>             <td>Least Squares</td>  <th>  F-statistic:       </th> <td>   9522.</td> \n",
       "</tr>\n",
       "<tr>\n",
       "  <th>Date:</th>             <td>Thu, 14 Jul 2016</td> <th>  Prob (F-statistic):</th>  <td>  0.00</td>  \n",
       "</tr>\n",
       "<tr>\n",
       "  <th>Time:</th>                 <td>18:03:40</td>     <th>  Log-Likelihood:    </th> <td> -66088.</td> \n",
       "</tr>\n",
       "<tr>\n",
       "  <th>No. Observations:</th>      <td>  3548</td>      <th>  AIC:               </th> <td>1.322e+05</td>\n",
       "</tr>\n",
       "<tr>\n",
       "  <th>Df Residuals:</th>          <td>  3546</td>      <th>  BIC:               </th> <td>1.322e+05</td>\n",
       "</tr>\n",
       "<tr>\n",
       "  <th>Df Model:</th>              <td>     1</td>      <th>                     </th>     <td> </td>    \n",
       "</tr>\n",
       "<tr>\n",
       "  <th>Covariance Type:</th>      <td>nonrobust</td>    <th>                     </th>     <td> </td>    \n",
       "</tr>\n",
       "</table>\n",
       "<table class=\"simpletable\">\n",
       "<tr>\n",
       "            <td></td>              <th>coef</th>     <th>std err</th>      <th>t</th>      <th>P>|t|</th> <th>[95.0% Conf. Int.]</th> \n",
       "</tr>\n",
       "<tr>\n",
       "  <th>const</th>                <td> 5.397e+06</td> <td> 5.92e+05</td> <td>    9.120</td> <td> 0.000</td> <td> 4.24e+06  6.56e+06</td>\n",
       "</tr>\n",
       "<tr>\n",
       "  <th>opening_weekend_take</th> <td>    3.4734</td> <td>    0.036</td> <td>   97.581</td> <td> 0.000</td> <td>    3.404     3.543</td>\n",
       "</tr>\n",
       "</table>\n",
       "<table class=\"simpletable\">\n",
       "<tr>\n",
       "  <th>Omnibus:</th>       <td>4177.673</td> <th>  Durbin-Watson:     </th>  <td>   1.914</td> \n",
       "</tr>\n",
       "<tr>\n",
       "  <th>Prob(Omnibus):</th>  <td> 0.000</td>  <th>  Jarque-Bera (JB):  </th> <td>873313.507</td>\n",
       "</tr>\n",
       "<tr>\n",
       "  <th>Skew:</th>           <td> 5.909</td>  <th>  Prob(JB):          </th>  <td>    0.00</td> \n",
       "</tr>\n",
       "<tr>\n",
       "  <th>Kurtosis:</th>       <td>78.946</td>  <th>  Cond. No.          </th>  <td>1.97e+07</td> \n",
       "</tr>\n",
       "</table>"
      ],
      "text/plain": [
       "<class 'statsmodels.iolib.summary.Summary'>\n",
       "\"\"\"\n",
       "                            OLS Regression Results                            \n",
       "==============================================================================\n",
       "Dep. Variable:         domestic_gross   R-squared:                       0.729\n",
       "Model:                            OLS   Adj. R-squared:                  0.729\n",
       "Method:                 Least Squares   F-statistic:                     9522.\n",
       "Date:                Thu, 14 Jul 2016   Prob (F-statistic):               0.00\n",
       "Time:                        18:03:40   Log-Likelihood:                -66088.\n",
       "No. Observations:                3548   AIC:                         1.322e+05\n",
       "Df Residuals:                    3546   BIC:                         1.322e+05\n",
       "Df Model:                           1                                         \n",
       "Covariance Type:            nonrobust                                         \n",
       "========================================================================================\n",
       "                           coef    std err          t      P>|t|      [95.0% Conf. Int.]\n",
       "----------------------------------------------------------------------------------------\n",
       "const                 5.397e+06   5.92e+05      9.120      0.000      4.24e+06  6.56e+06\n",
       "opening_weekend_take     3.4734      0.036     97.581      0.000         3.404     3.543\n",
       "==============================================================================\n",
       "Omnibus:                     4177.673   Durbin-Watson:                   1.914\n",
       "Prob(Omnibus):                  0.000   Jarque-Bera (JB):           873313.507\n",
       "Skew:                           5.909   Prob(JB):                         0.00\n",
       "Kurtosis:                      78.946   Cond. No.                     1.97e+07\n",
       "==============================================================================\n",
       "\n",
       "Warnings:\n",
       "[1] Standard Errors assume that the covariance matrix of the errors is correctly specified.\n",
       "[2] The condition number is large, 1.97e+07. This might indicate that there are\n",
       "strong multicollinearity or other numerical problems.\n",
       "\"\"\""
      ]
     },
     "execution_count": 44,
     "metadata": {},
     "output_type": "execute_result"
    }
   ],
   "source": [
    "linmodel.summary()"
   ]
  },
  {
   "cell_type": "code",
   "execution_count": 45,
   "metadata": {
    "collapsed": true
   },
   "outputs": [],
   "source": [
    "predicted_gross = linmodel.predict(X)"
   ]
  },
  {
   "cell_type": "code",
   "execution_count": 46,
   "metadata": {
    "collapsed": false
   },
   "outputs": [
    {
     "data": {
      "text/plain": [
       "<matplotlib.text.Text at 0x11a1c1e10>"
      ]
     },
     "execution_count": 46,
     "metadata": {},
     "output_type": "execute_result"
    },
    {
     "data": {
      "image/png": "[encoded data removed]",
      "text/plain": [
       "<matplotlib.figure.Figure at 0x11a1cda50>"
      ]
     },
     "metadata": {},
     "output_type": "display_data"
    }
   ],
   "source": [
    "plt.scatter(df.opening_weekend_take, df.domestic_gross, color = 'grey')\n",
    "plt.scatter(df.opening_weekend_take, predicted_gross)\n",
    "plt.title(\"Opening Weekend Based Model for Domestic Gross\")\n",
    "plt.xlabel(\"Opening Weekend Take ($100M)\")\n",
    "plt.ylabel(\"Domestic Gross ($100M)\")"
   ]
  },
  {
   "cell_type": "markdown",
   "metadata": {},
   "source": [
    "#### Challenge 10\n",
    "\n",
    "Make a scatterplot of actual domestic gross versus predicted domestic\n",
    "gross. Also plot a line that shows what ideal predictions would\n",
    "be. Anything above that line is over-prediction, anything below is\n",
    "underprediction."
   ]
  },
  {
   "cell_type": "code",
   "execution_count": null,
   "metadata": {
    "collapsed": true
   },
   "outputs": [],
   "source": []
  },
  {
   "cell_type": "markdown",
   "metadata": {},
   "source": [
    "#### Challenge 11\n",
    "\n",
    "Make a scatterplot of predicted gross versus residuals. Also plot a\n",
    "line that takes the residual value 0 for every gross. We are assuming\n",
    "that the random part of our model is a normal distribution with the\n",
    "mean zero. So, ideally, the residuals should be forming a band around\n",
    "this zero line, and the range shouldn't change. This plot helps you\n",
    "check that assumption."
   ]
  },
  {
   "cell_type": "code",
   "execution_count": 47,
   "metadata": {
    "collapsed": false
   },
   "outputs": [
    {
     "data": {
      "text/plain": [
       "[<matplotlib.lines.Line2D at 0x11b678d50>]"
      ]
     },
     "execution_count": 47,
     "metadata": {},
     "output_type": "execute_result"
    },
    {
     "data": {
      "image/png": "[encoded data removed]",
      "text/plain": [
       "<matplotlib.figure.Figure at 0x11b6e95d0>"
      ]
     },
     "metadata": {},
     "output_type": "display_data"
    }
   ],
   "source": [
    "plt.scatter(predicted_gross, linmodel.resid)\n",
    "plt.plot([0,650000000],[0,0], 'r-' ,lw=2)"
   ]
  },
  {
   "cell_type": "markdown",
   "metadata": {},
   "source": [
    "#### Challenge 12\n",
    "\n",
    "We're talking about money (opening weekend and total gross), and\n",
    "usually, in many real life problems, orders of magnitude of features that spread over such\n",
    "large scales may be better suited to such models than the values\n",
    "themselves.\n",
    "\n",
    "Instead of predicting gross with opening weekend, build a model that\n",
    "predicts log(gross) with log(opening weekend).\n",
    "\n",
    "- Print the summary\n",
    "- Plot log(opening) vs log(gross) (and the fitted line)\n",
    "- Plot the residuals over log(gross)\n",
    "\n",
    "(Does it look better or worse? What are the problems?)"
   ]
  },
  {
   "cell_type": "code",
   "execution_count": 48,
   "metadata": {
    "collapsed": false
   },
   "outputs": [
    {
     "data": {
      "text/html": [
       "<div>\n",
       "<table border=\"1\" class=\"dataframe\">\n",
       "  <thead>\n",
       "    <tr style=\"text-align: right;\">\n",
       "      <th></th>\n",
       "      <th>log_opening_week_take</th>\n",
       "      <th>opening_week_take</th>\n",
       "      <th>log_domestic_gross</th>\n",
       "      <th>domestic gross</th>\n",
       "    </tr>\n",
       "  </thead>\n",
       "  <tbody>\n",
       "    <tr>\n",
       "      <th>0</th>\n",
       "      <td>7.554701</td>\n",
       "      <td>35867488.0</td>\n",
       "      <td>7.976736</td>\n",
       "      <td>94784201.0</td>\n",
       "    </tr>\n",
       "    <tr>\n",
       "      <th>1</th>\n",
       "      <td>7.298490</td>\n",
       "      <td>19883351.0</td>\n",
       "      <td>7.825796</td>\n",
       "      <td>66957026.0</td>\n",
       "    </tr>\n",
       "    <tr>\n",
       "      <th>2</th>\n",
       "      <td>6.920681</td>\n",
       "      <td>8330681.0</td>\n",
       "      <td>7.581815</td>\n",
       "      <td>38178166.0</td>\n",
       "    </tr>\n",
       "    <tr>\n",
       "      <th>3</th>\n",
       "      <td>4.356160</td>\n",
       "      <td>22707.0</td>\n",
       "      <td>5.308293</td>\n",
       "      <td>203373.0</td>\n",
       "    </tr>\n",
       "    <tr>\n",
       "      <th>4</th>\n",
       "      <td>3.546049</td>\n",
       "      <td>3516.0</td>\n",
       "      <td>3.964401</td>\n",
       "      <td>9213.0</td>\n",
       "    </tr>\n",
       "  </tbody>\n",
       "</table>\n",
       "</div>"
      ],
      "text/plain": [
       "   log_opening_week_take  opening_week_take  log_domestic_gross  \\\n",
       "0               7.554701         35867488.0            7.976736   \n",
       "1               7.298490         19883351.0            7.825796   \n",
       "2               6.920681          8330681.0            7.581815   \n",
       "3               4.356160            22707.0            5.308293   \n",
       "4               3.546049             3516.0            3.964401   \n",
       "\n",
       "   domestic gross  \n",
       "0      94784201.0  \n",
       "1      66957026.0  \n",
       "2      38178166.0  \n",
       "3        203373.0  \n",
       "4          9213.0  "
      ]
     },
     "execution_count": 48,
     "metadata": {},
     "output_type": "execute_result"
    }
   ],
   "source": [
    "df_log = pd.DataFrame(np.matrix([np.log10(movies_df['opening_weekend_take']),movies_df['opening_weekend_take'],np.log10(movies_df['domestic_gross']), movies_df['domestic_gross']]).T)\n",
    "df_log.columns = ['log_opening_week_take','opening_week_take','log_domestic_gross','domestic gross']\n",
    "df_log.head()"
   ]
  },
  {
   "cell_type": "code",
   "execution_count": 49,
   "metadata": {
    "collapsed": false
   },
   "outputs": [
    {
     "data": {
      "text/html": [
       "<div>\n",
       "<table border=\"1\" class=\"dataframe\">\n",
       "  <thead>\n",
       "    <tr style=\"text-align: right;\">\n",
       "      <th></th>\n",
       "      <th>alt_title</th>\n",
       "      <th>director</th>\n",
       "      <th>domestic_gross</th>\n",
       "      <th>mojo_slug</th>\n",
       "      <th>opening_per_theater</th>\n",
       "      <th>opening_weekend_take</th>\n",
       "      <th>production_budget</th>\n",
       "      <th>release_date_limited</th>\n",
       "      <th>release_date_wide</th>\n",
       "      <th>title</th>\n",
       "      <th>widest_release</th>\n",
       "      <th>worldwide_gross</th>\n",
       "      <th>year</th>\n",
       "    </tr>\n",
       "  </thead>\n",
       "  <tbody>\n",
       "    <tr>\n",
       "      <th>0</th>\n",
       "      <td>10,000 B.C. (2008)</td>\n",
       "      <td>Roland Emmerich</td>\n",
       "      <td>94784201.0</td>\n",
       "      <td>10000bc</td>\n",
       "      <td>10518.0</td>\n",
       "      <td>35867488.0</td>\n",
       "      <td>105000000.0</td>\n",
       "      <td>None</td>\n",
       "      <td>2008-03-07</td>\n",
       "      <td>10,000 B.C.</td>\n",
       "      <td>3454.0</td>\n",
       "      <td>269784201.0</td>\n",
       "      <td>2008.0</td>\n",
       "    </tr>\n",
       "    <tr>\n",
       "      <th>1</th>\n",
       "      <td>102 Dalmatians (2000)</td>\n",
       "      <td>None</td>\n",
       "      <td>66957026.0</td>\n",
       "      <td>102dalmatians</td>\n",
       "      <td>7353.0</td>\n",
       "      <td>19883351.0</td>\n",
       "      <td>85000000.0</td>\n",
       "      <td>None</td>\n",
       "      <td>2000-11-22</td>\n",
       "      <td>102 Dalmatians</td>\n",
       "      <td>2704.0</td>\n",
       "      <td>183611771.0</td>\n",
       "      <td>2000.0</td>\n",
       "    </tr>\n",
       "    <tr>\n",
       "      <th>2</th>\n",
       "      <td>10 Things I Hate About You (1999)</td>\n",
       "      <td>None</td>\n",
       "      <td>38178166.0</td>\n",
       "      <td>10thingsihateaboutyou</td>\n",
       "      <td>3668.0</td>\n",
       "      <td>8330681.0</td>\n",
       "      <td>30000000.0</td>\n",
       "      <td>None</td>\n",
       "      <td>1999-03-31</td>\n",
       "      <td>10 Things I Hate About You</td>\n",
       "      <td>2311.0</td>\n",
       "      <td>53478166.0</td>\n",
       "      <td>1999.0</td>\n",
       "    </tr>\n",
       "    <tr>\n",
       "      <th>3</th>\n",
       "      <td>10 Years (2012)</td>\n",
       "      <td>Jamie Linden</td>\n",
       "      <td>203373.0</td>\n",
       "      <td>10years</td>\n",
       "      <td>7569.0</td>\n",
       "      <td>22707.0</td>\n",
       "      <td>NaN</td>\n",
       "      <td>None</td>\n",
       "      <td>2012-09-14</td>\n",
       "      <td>10 Years</td>\n",
       "      <td>63.0</td>\n",
       "      <td>203373.0</td>\n",
       "      <td>2012.0</td>\n",
       "    </tr>\n",
       "    <tr>\n",
       "      <th>4</th>\n",
       "      <td>11 Flowers (2013)</td>\n",
       "      <td>None</td>\n",
       "      <td>9213.0</td>\n",
       "      <td>11flowers</td>\n",
       "      <td>1758.0</td>\n",
       "      <td>3516.0</td>\n",
       "      <td>NaN</td>\n",
       "      <td>None</td>\n",
       "      <td>2013-02-22</td>\n",
       "      <td>11 Flowers</td>\n",
       "      <td>2.0</td>\n",
       "      <td>NaN</td>\n",
       "      <td>2013.0</td>\n",
       "    </tr>\n",
       "  </tbody>\n",
       "</table>\n",
       "</div>"
      ],
      "text/plain": [
       "                           alt_title         director  domestic_gross  \\\n",
       "0                 10,000 B.C. (2008)  Roland Emmerich      94784201.0   \n",
       "1              102 Dalmatians (2000)             None      66957026.0   \n",
       "2  10 Things I Hate About You (1999)             None      38178166.0   \n",
       "3                    10 Years (2012)     Jamie Linden        203373.0   \n",
       "4                  11 Flowers (2013)             None          9213.0   \n",
       "\n",
       "               mojo_slug  opening_per_theater  opening_weekend_take  \\\n",
       "0                10000bc              10518.0            35867488.0   \n",
       "1          102dalmatians               7353.0            19883351.0   \n",
       "2  10thingsihateaboutyou               3668.0             8330681.0   \n",
       "3                10years               7569.0               22707.0   \n",
       "4              11flowers               1758.0                3516.0   \n",
       "\n",
       "   production_budget release_date_limited release_date_wide  \\\n",
       "0        105000000.0                 None        2008-03-07   \n",
       "1         85000000.0                 None        2000-11-22   \n",
       "2         30000000.0                 None        1999-03-31   \n",
       "3                NaN                 None        2012-09-14   \n",
       "4                NaN                 None        2013-02-22   \n",
       "\n",
       "                        title  widest_release  worldwide_gross    year  \n",
       "0                 10,000 B.C.          3454.0      269784201.0  2008.0  \n",
       "1             102 Dalmatians           2704.0      183611771.0  2000.0  \n",
       "2  10 Things I Hate About You          2311.0       53478166.0  1999.0  \n",
       "3                    10 Years            63.0         203373.0  2012.0  \n",
       "4                 11 Flowers              2.0              NaN  2013.0  "
      ]
     },
     "execution_count": 49,
     "metadata": {},
     "output_type": "execute_result"
    }
   ],
   "source": [
    "movies_df.head()"
   ]
  },
  {
   "cell_type": "markdown",
   "metadata": {},
   "source": [
    "#### Challenge 13\n",
    "\n",
    "Make a predictive model for log(domestic gross) with two features:\n",
    "log(opening weekend) and square of log(opening weekend). We are\n",
    "building a quadratic model. Make the residual plot again."
   ]
  },
  {
   "cell_type": "code",
   "execution_count": 50,
   "metadata": {
    "collapsed": false
   },
   "outputs": [
    {
     "data": {
      "text/plain": [
       "array([[  1.        ,   7.55470096,  57.07350662],\n",
       "       [  1.        ,   7.29848958,  53.26795014],\n",
       "       [  1.        ,   6.9206805 ,  47.89581865],\n",
       "       ..., \n",
       "       [  1.        ,   7.30245252,  53.32581278],\n",
       "       [  1.        ,   7.19103281,  51.7109529 ],\n",
       "       [  1.        ,   6.65421583,  44.2785883 ]])"
      ]
     },
     "execution_count": 50,
     "metadata": {},
     "output_type": "execute_result"
    }
   ],
   "source": [
    "X_df = pd.DataFrame(np.matrix([df_log.log_domestic_gross, df_log.log_opening_week_take, (df_log.log_opening_week_take)**2]).T)\n",
    "X_df.columns = ['log_domestic_gross','log_opening_week_take','log_opening_week_take_sq']\n",
    "X_df = X_df.dropna(axis = 0)\n",
    "X_df = sm.add_constant(X_df)\n",
    "Y = X_df.log_domestic_gross\n",
    "X = np.array([X_df.const, X_df.log_opening_week_take, X_df.log_opening_week_take_sq]).T\n",
    "X"
   ]
  },
  {
   "cell_type": "code",
   "execution_count": 51,
   "metadata": {
    "collapsed": false
   },
   "outputs": [
    {
     "data": {
      "text/html": [
       "<div>\n",
       "<table border=\"1\" class=\"dataframe\">\n",
       "  <thead>\n",
       "    <tr style=\"text-align: right;\">\n",
       "      <th></th>\n",
       "      <th>const</th>\n",
       "      <th>log_domestic_gross</th>\n",
       "      <th>log_opening_week_take</th>\n",
       "      <th>log_opening_week_take_sq</th>\n",
       "    </tr>\n",
       "  </thead>\n",
       "  <tbody>\n",
       "    <tr>\n",
       "      <th>0</th>\n",
       "      <td>1</td>\n",
       "      <td>7.976736</td>\n",
       "      <td>7.554701</td>\n",
       "      <td>57.073507</td>\n",
       "    </tr>\n",
       "    <tr>\n",
       "      <th>1</th>\n",
       "      <td>1</td>\n",
       "      <td>7.825796</td>\n",
       "      <td>7.298490</td>\n",
       "      <td>53.267950</td>\n",
       "    </tr>\n",
       "    <tr>\n",
       "      <th>2</th>\n",
       "      <td>1</td>\n",
       "      <td>7.581815</td>\n",
       "      <td>6.920681</td>\n",
       "      <td>47.895819</td>\n",
       "    </tr>\n",
       "    <tr>\n",
       "      <th>3</th>\n",
       "      <td>1</td>\n",
       "      <td>5.308293</td>\n",
       "      <td>4.356160</td>\n",
       "      <td>18.976128</td>\n",
       "    </tr>\n",
       "    <tr>\n",
       "      <th>4</th>\n",
       "      <td>1</td>\n",
       "      <td>3.964401</td>\n",
       "      <td>3.546049</td>\n",
       "      <td>12.574463</td>\n",
       "    </tr>\n",
       "  </tbody>\n",
       "</table>\n",
       "</div>"
      ],
      "text/plain": [
       "   const  log_domestic_gross  log_opening_week_take  log_opening_week_take_sq\n",
       "0      1            7.976736               7.554701                 57.073507\n",
       "1      1            7.825796               7.298490                 53.267950\n",
       "2      1            7.581815               6.920681                 47.895819\n",
       "3      1            5.308293               4.356160                 18.976128\n",
       "4      1            3.964401               3.546049                 12.574463"
      ]
     },
     "execution_count": 51,
     "metadata": {},
     "output_type": "execute_result"
    }
   ],
   "source": [
    "X_df.head()"
   ]
  },
  {
   "cell_type": "code",
   "execution_count": 52,
   "metadata": {
    "collapsed": false
   },
   "outputs": [],
   "source": [
    "linmodel = sm.OLS(Y,X).fit()"
   ]
  },
  {
   "cell_type": "code",
   "execution_count": 53,
   "metadata": {
    "collapsed": false
   },
   "outputs": [
    {
     "data": {
      "text/html": [
       "<table class=\"simpletable\">\n",
       "<caption>OLS Regression Results</caption>\n",
       "<tr>\n",
       "  <th>Dep. Variable:</th>    <td>log_domestic_gross</td> <th>  R-squared:         </th> <td>   0.892</td> \n",
       "</tr>\n",
       "<tr>\n",
       "  <th>Model:</th>                    <td>OLS</td>        <th>  Adj. R-squared:    </th> <td>   0.892</td> \n",
       "</tr>\n",
       "<tr>\n",
       "  <th>Method:</th>              <td>Least Squares</td>   <th>  F-statistic:       </th> <td>1.463e+04</td>\n",
       "</tr>\n",
       "<tr>\n",
       "  <th>Date:</th>              <td>Thu, 14 Jul 2016</td>  <th>  Prob (F-statistic):</th>  <td>  0.00</td>  \n",
       "</tr>\n",
       "<tr>\n",
       "  <th>Time:</th>                  <td>18:03:41</td>      <th>  Log-Likelihood:    </th> <td> -1884.3</td> \n",
       "</tr>\n",
       "<tr>\n",
       "  <th>No. Observations:</th>       <td>  3548</td>       <th>  AIC:               </th> <td>   3775.</td> \n",
       "</tr>\n",
       "<tr>\n",
       "  <th>Df Residuals:</th>           <td>  3545</td>       <th>  BIC:               </th> <td>   3793.</td> \n",
       "</tr>\n",
       "<tr>\n",
       "  <th>Df Model:</th>               <td>     2</td>       <th>                     </th>     <td> </td>    \n",
       "</tr>\n",
       "<tr>\n",
       "  <th>Covariance Type:</th>       <td>nonrobust</td>     <th>                     </th>     <td> </td>    \n",
       "</tr>\n",
       "</table>\n",
       "<table class=\"simpletable\">\n",
       "<tr>\n",
       "    <td></td>       <th>coef</th>     <th>std err</th>      <th>t</th>      <th>P>|t|</th> <th>[95.0% Conf. Int.]</th> \n",
       "</tr>\n",
       "<tr>\n",
       "  <th>const</th> <td>   -0.7040</td> <td>    0.143</td> <td>   -4.916</td> <td> 0.000</td> <td>   -0.985    -0.423</td>\n",
       "</tr>\n",
       "<tr>\n",
       "  <th>x1</th>    <td>    1.7175</td> <td>    0.053</td> <td>   32.253</td> <td> 0.000</td> <td>    1.613     1.822</td>\n",
       "</tr>\n",
       "<tr>\n",
       "  <th>x2</th>    <td>   -0.0754</td> <td>    0.005</td> <td>  -15.977</td> <td> 0.000</td> <td>   -0.085    -0.066</td>\n",
       "</tr>\n",
       "</table>\n",
       "<table class=\"simpletable\">\n",
       "<tr>\n",
       "  <th>Omnibus:</th>       <td>262.595</td> <th>  Durbin-Watson:     </th> <td>   2.001</td>\n",
       "</tr>\n",
       "<tr>\n",
       "  <th>Prob(Omnibus):</th> <td> 0.000</td>  <th>  Jarque-Bera (JB):  </th> <td> 413.434</td>\n",
       "</tr>\n",
       "<tr>\n",
       "  <th>Skew:</th>          <td> 0.577</td>  <th>  Prob(JB):          </th> <td>1.67e-90</td>\n",
       "</tr>\n",
       "<tr>\n",
       "  <th>Kurtosis:</th>      <td> 4.210</td>  <th>  Cond. No.          </th> <td>    899.</td>\n",
       "</tr>\n",
       "</table>"
      ],
      "text/plain": [
       "<class 'statsmodels.iolib.summary.Summary'>\n",
       "\"\"\"\n",
       "                            OLS Regression Results                            \n",
       "==============================================================================\n",
       "Dep. Variable:     log_domestic_gross   R-squared:                       0.892\n",
       "Model:                            OLS   Adj. R-squared:                  0.892\n",
       "Method:                 Least Squares   F-statistic:                 1.463e+04\n",
       "Date:                Thu, 14 Jul 2016   Prob (F-statistic):               0.00\n",
       "Time:                        18:03:41   Log-Likelihood:                -1884.3\n",
       "No. Observations:                3548   AIC:                             3775.\n",
       "Df Residuals:                    3545   BIC:                             3793.\n",
       "Df Model:                           2                                         \n",
       "Covariance Type:            nonrobust                                         \n",
       "==============================================================================\n",
       "                 coef    std err          t      P>|t|      [95.0% Conf. Int.]\n",
       "------------------------------------------------------------------------------\n",
       "const         -0.7040      0.143     -4.916      0.000        -0.985    -0.423\n",
       "x1             1.7175      0.053     32.253      0.000         1.613     1.822\n",
       "x2            -0.0754      0.005    -15.977      0.000        -0.085    -0.066\n",
       "==============================================================================\n",
       "Omnibus:                      262.595   Durbin-Watson:                   2.001\n",
       "Prob(Omnibus):                  0.000   Jarque-Bera (JB):              413.434\n",
       "Skew:                           0.577   Prob(JB):                     1.67e-90\n",
       "Kurtosis:                       4.210   Cond. No.                         899.\n",
       "==============================================================================\n",
       "\n",
       "Warnings:\n",
       "[1] Standard Errors assume that the covariance matrix of the errors is correctly specified.\n",
       "\"\"\""
      ]
     },
     "execution_count": 53,
     "metadata": {},
     "output_type": "execute_result"
    }
   ],
   "source": [
    "linmodel.summary()"
   ]
  },
  {
   "cell_type": "code",
   "execution_count": 54,
   "metadata": {
    "collapsed": false
   },
   "outputs": [
    {
     "data": {
      "text/plain": [
       "<matplotlib.collections.PathCollection at 0x11babf310>"
      ]
     },
     "execution_count": 54,
     "metadata": {},
     "output_type": "execute_result"
    },
    {
     "data": {
      "image/png": "[encoded data removed]",
      "text/plain": [
       "<matplotlib.figure.Figure at 0x11b810cd0>"
      ]
     },
     "metadata": {},
     "output_type": "display_data"
    }
   ],
   "source": [
    "predicted_gross = linmodel.predict(X)\n",
    "plt.scatter(predicted_gross, linmodel.resid)"
   ]
  },
  {
   "cell_type": "code",
   "execution_count": 55,
   "metadata": {
    "collapsed": false
   },
   "outputs": [
    {
     "data": {
      "text/plain": [
       "<matplotlib.text.Text at 0x11bd18c90>"
      ]
     },
     "execution_count": 55,
     "metadata": {},
     "output_type": "execute_result"
    },
    {
     "data": {
      "image/png": "[encoded data removed]",
      "text/plain": [
       "<matplotlib.figure.Figure at 0x11bacc350>"
      ]
     },
     "metadata": {},
     "output_type": "display_data"
    }
   ],
   "source": [
    "plt.scatter(df.opening_weekend_take, df.domestic_gross, color = 'grey')\n",
    "plt.scatter(df.opening_weekend_take, predicted_gross)\n",
    "plt.title(\"Opening Weekend Based Model for Domestic Gross\")\n",
    "plt.xlabel(\"Opening Weekend Take ($100M)\")\n",
    "plt.ylabel(\"Domestic Gross ($100M)\")"
   ]
  },
  {
   "cell_type": "code",
   "execution_count": 56,
   "metadata": {
    "collapsed": false
   },
   "outputs": [
    {
     "data": {
      "text/plain": [
       "<matplotlib.collections.PathCollection at 0x11be8f810>"
      ]
     },
     "execution_count": 56,
     "metadata": {},
     "output_type": "execute_result"
    },
    {
     "data": {
      "image/png": "[encoded data removed]",
      "text/plain": [
       "<matplotlib.figure.Figure at 0x11bdda510>"
      ]
     },
     "metadata": {},
     "output_type": "display_data"
    }
   ],
   "source": [
    "\n",
    "plt.scatter(X_df.log_opening_week_take, X_df.log_domestic_gross, color='grey')\n",
    "plt.scatter(X_df.log_opening_week_take, predicted_gross)\n",
    "# plt.scatter(X_df.log_opening_week_take_sq, predicted_gross, color='red')"
   ]
  },
  {
   "cell_type": "code",
   "execution_count": 57,
   "metadata": {
    "collapsed": false
   },
   "outputs": [
    {
     "data": {
      "text/plain": [
       "<matplotlib.collections.PathCollection at 0x11c89d210>"
      ]
     },
     "execution_count": 57,
     "metadata": {},
     "output_type": "execute_result"
    },
    {
     "data": {
      "image/png": "[encoded data removed]",
      "text/plain": [
       "<matplotlib.figure.Figure at 0x11b9f9a90>"
      ]
     },
     "metadata": {},
     "output_type": "display_data"
    }
   ],
   "source": [
    "\n",
    "plt.scatter(X_df.log_opening_week_take, X_df.log_domestic_gross, color='grey')\n",
    "plt.scatter(X_df.log_opening_week_take, predicted_gross)\n",
    "plt.scatter(X_df.log_opening_week_take_sq, predicted_gross, color='red')"
   ]
  },
  {
   "cell_type": "code",
   "execution_count": 58,
   "metadata": {
    "collapsed": false
   },
   "outputs": [
    {
     "data": {
      "text/plain": [
       "<matplotlib.collections.PathCollection at 0x11c96c750>"
      ]
     },
     "execution_count": 58,
     "metadata": {},
     "output_type": "execute_result"
    },
    {
     "data": {
      "image/png": "[encoded data removed]",
      "text/plain": [
       "<matplotlib.figure.Figure at 0x11c8c9290>"
      ]
     },
     "metadata": {},
     "output_type": "display_data"
    }
   ],
   "source": [
    "plt.scatter(predicted_gross, X_df.log_opening_week_take_sq)"
   ]
  },
  {
   "cell_type": "markdown",
   "metadata": {},
   "source": [
    "#### Challenge 14\n",
    "\n",
    "`statsmodels` also allows you to build models using formulas. That can\n",
    "come in handy if the features and their functional forms start getting\n",
    "a bit complicated. Build the same quadratic model from the previous\n",
    "challenge, but do it with a formula. Use\n",
    "\n",
    "    import statsmodels.formula.api as smf\n",
    "\n",
    "Then define a formula that looks something like this:\n",
    "\n",
    "    formula = 'target_column_name ~  feature_1 + feature_2'\n",
    "\n",
    "where the `target_column_name`, `feature_1` and `feature_2` will be\n",
    "replaced with column names in your dataframe, and then use the\n",
    "`ols` function from the imported module which we called `smf` to use\n",
    "the formula on your data. Make sure the model is exactly the same as\n",
    "the one from the previous question."
   ]
  },
  {
   "cell_type": "code",
   "execution_count": 59,
   "metadata": {
    "collapsed": true
   },
   "outputs": [],
   "source": [
    "import statsmodels.formula.api as smf"
   ]
  },
  {
   "cell_type": "code",
   "execution_count": 60,
   "metadata": {
    "collapsed": false
   },
   "outputs": [
    {
     "data": {
      "text/plain": [
       "array([[  1.        ,   7.55470096,  57.07350662],\n",
       "       [  1.        ,   7.29848958,  53.26795014],\n",
       "       [  1.        ,   6.9206805 ,  47.89581865],\n",
       "       ..., \n",
       "       [  1.        ,   7.30245252,  53.32581278],\n",
       "       [  1.        ,   7.19103281,  51.7109529 ],\n",
       "       [  1.        ,   6.65421583,  44.2785883 ]])"
      ]
     },
     "execution_count": 60,
     "metadata": {},
     "output_type": "execute_result"
    }
   ],
   "source": [
    "X_df = pd.DataFrame(np.matrix([df_log.log_domestic_gross, df_log.log_opening_week_take, (df_log.log_opening_week_take)**2]).T)\n",
    "X_df.columns = ['log_domestic_gross','log_opening_week_take','log_opening_week_take_sq']\n",
    "X_df = X_df.dropna(axis = 0)\n",
    "X_df = sm.add_constant(X_df)\n",
    "Y = X_df.log_domestic_gross\n",
    "X = np.array([X_df.const, X_df.log_opening_week_take, X_df.log_opening_week_take_sq]).T\n",
    "X"
   ]
  },
  {
   "cell_type": "code",
   "execution_count": 61,
   "metadata": {
    "collapsed": true
   },
   "outputs": [],
   "source": [
    "formula = 'log_domestic_gross ~ log_opening_week_take + log_opening_week_take_sq'"
   ]
  },
  {
   "cell_type": "code",
   "execution_count": 62,
   "metadata": {
    "collapsed": false
   },
   "outputs": [],
   "source": [
    "results = smf.ols(formula, X_df).fit()"
   ]
  },
  {
   "cell_type": "code",
   "execution_count": 63,
   "metadata": {
    "collapsed": false
   },
   "outputs": [
    {
     "data": {
      "text/html": [
       "<table class=\"simpletable\">\n",
       "<caption>OLS Regression Results</caption>\n",
       "<tr>\n",
       "  <th>Dep. Variable:</th>    <td>log_domestic_gross</td> <th>  R-squared:         </th> <td>   0.892</td> \n",
       "</tr>\n",
       "<tr>\n",
       "  <th>Model:</th>                    <td>OLS</td>        <th>  Adj. R-squared:    </th> <td>   0.892</td> \n",
       "</tr>\n",
       "<tr>\n",
       "  <th>Method:</th>              <td>Least Squares</td>   <th>  F-statistic:       </th> <td>1.463e+04</td>\n",
       "</tr>\n",
       "<tr>\n",
       "  <th>Date:</th>              <td>Thu, 14 Jul 2016</td>  <th>  Prob (F-statistic):</th>  <td>  0.00</td>  \n",
       "</tr>\n",
       "<tr>\n",
       "  <th>Time:</th>                  <td>18:03:43</td>      <th>  Log-Likelihood:    </th> <td> -1884.3</td> \n",
       "</tr>\n",
       "<tr>\n",
       "  <th>No. Observations:</th>       <td>  3548</td>       <th>  AIC:               </th> <td>   3775.</td> \n",
       "</tr>\n",
       "<tr>\n",
       "  <th>Df Residuals:</th>           <td>  3545</td>       <th>  BIC:               </th> <td>   3793.</td> \n",
       "</tr>\n",
       "<tr>\n",
       "  <th>Df Model:</th>               <td>     2</td>       <th>                     </th>     <td> </td>    \n",
       "</tr>\n",
       "<tr>\n",
       "  <th>Covariance Type:</th>       <td>nonrobust</td>     <th>                     </th>     <td> </td>    \n",
       "</tr>\n",
       "</table>\n",
       "<table class=\"simpletable\">\n",
       "<tr>\n",
       "              <td></td>                <th>coef</th>     <th>std err</th>      <th>t</th>      <th>P>|t|</th> <th>[95.0% Conf. Int.]</th> \n",
       "</tr>\n",
       "<tr>\n",
       "  <th>Intercept</th>                <td>   -0.7040</td> <td>    0.143</td> <td>   -4.916</td> <td> 0.000</td> <td>   -0.985    -0.423</td>\n",
       "</tr>\n",
       "<tr>\n",
       "  <th>log_opening_week_take</th>    <td>    1.7175</td> <td>    0.053</td> <td>   32.253</td> <td> 0.000</td> <td>    1.613     1.822</td>\n",
       "</tr>\n",
       "<tr>\n",
       "  <th>log_opening_week_take_sq</th> <td>   -0.0754</td> <td>    0.005</td> <td>  -15.977</td> <td> 0.000</td> <td>   -0.085    -0.066</td>\n",
       "</tr>\n",
       "</table>\n",
       "<table class=\"simpletable\">\n",
       "<tr>\n",
       "  <th>Omnibus:</th>       <td>262.595</td> <th>  Durbin-Watson:     </th> <td>   2.001</td>\n",
       "</tr>\n",
       "<tr>\n",
       "  <th>Prob(Omnibus):</th> <td> 0.000</td>  <th>  Jarque-Bera (JB):  </th> <td> 413.434</td>\n",
       "</tr>\n",
       "<tr>\n",
       "  <th>Skew:</th>          <td> 0.577</td>  <th>  Prob(JB):          </th> <td>1.67e-90</td>\n",
       "</tr>\n",
       "<tr>\n",
       "  <th>Kurtosis:</th>      <td> 4.210</td>  <th>  Cond. No.          </th> <td>    899.</td>\n",
       "</tr>\n",
       "</table>"
      ],
      "text/plain": [
       "<class 'statsmodels.iolib.summary.Summary'>\n",
       "\"\"\"\n",
       "                            OLS Regression Results                            \n",
       "==============================================================================\n",
       "Dep. Variable:     log_domestic_gross   R-squared:                       0.892\n",
       "Model:                            OLS   Adj. R-squared:                  0.892\n",
       "Method:                 Least Squares   F-statistic:                 1.463e+04\n",
       "Date:                Thu, 14 Jul 2016   Prob (F-statistic):               0.00\n",
       "Time:                        18:03:43   Log-Likelihood:                -1884.3\n",
       "No. Observations:                3548   AIC:                             3775.\n",
       "Df Residuals:                    3545   BIC:                             3793.\n",
       "Df Model:                           2                                         \n",
       "Covariance Type:            nonrobust                                         \n",
       "============================================================================================\n",
       "                               coef    std err          t      P>|t|      [95.0% Conf. Int.]\n",
       "--------------------------------------------------------------------------------------------\n",
       "Intercept                   -0.7040      0.143     -4.916      0.000        -0.985    -0.423\n",
       "log_opening_week_take        1.7175      0.053     32.253      0.000         1.613     1.822\n",
       "log_opening_week_take_sq    -0.0754      0.005    -15.977      0.000        -0.085    -0.066\n",
       "==============================================================================\n",
       "Omnibus:                      262.595   Durbin-Watson:                   2.001\n",
       "Prob(Omnibus):                  0.000   Jarque-Bera (JB):              413.434\n",
       "Skew:                           0.577   Prob(JB):                     1.67e-90\n",
       "Kurtosis:                       4.210   Cond. No.                         899.\n",
       "==============================================================================\n",
       "\n",
       "Warnings:\n",
       "[1] Standard Errors assume that the covariance matrix of the errors is correctly specified.\n",
       "\"\"\""
      ]
     },
     "execution_count": 63,
     "metadata": {},
     "output_type": "execute_result"
    }
   ],
   "source": [
    "results.summary()"
   ]
  },
  {
   "cell_type": "markdown",
   "metadata": {},
   "source": [
    "#### Challenge 15\n",
    "\n",
    "Let's see how doing linear regression works in `scikit.learn`:\n",
    "\n",
    "    from sklearn.linear_model import LinearRegression\n",
    "    model = LinearRegression()\n",
    "    Y = df['domestic_gross']\n",
    "    X = df[['opening_weekend_take']]\n",
    "    model.fit(X, Y)\n",
    "\n",
    "Pretty straightforward. One thing of note is the double bracket for\n",
    "X. For Y, `sklearn` expects a single column, one array. However, for X,\n",
    "it expects a matrix, with one column each for every feature we include\n",
    "in our model. Here, we are only including one, but it still expects\n",
    "not a single vector, but a matrix with only one column. When we put a\n",
    "list of column names within the brackets for a pandas dataframe, it\n",
    "gives us a new dataframe with all the columns. In the same spirit, we\n",
    "are here giving it a list, so we can get a Dataframe (a matrix) and\n",
    "not a Series (a vector) so as not to confuse `sklearn`. Also, note that\n",
    "the `fit` method is called with X first, then Y. And we don't need to\n",
    "do anything extra about the intercept.\n",
    "\n",
    "Ok, `sklearn` does not provide a summary table. If you need to look at\n",
    "the coefficients and the intercept:\n",
    "\n",
    "    print model.coef_\n",
    "    print model.intercept_\n",
    "\n",
    "If you need to calculate the mean squared error of the model:\n",
    "\n",
    "    from sklearn.metrics import mean_squared_error\n",
    "    Y_pred = model.predict(X)\n",
    "    Y_true = Y\n",
    "    print mean_squared_error(Y_pred, Y_true\n",
    "\n",
    "and so on... Scikit.learn has a lot of tools to inform you about the\n",
    "model but you have to import and use them separately, one by one.\n",
    "\n",
    "Now, to the challenge. Fit the quadratic log model again, but this\n",
    "time with `scikit.learn`. Compare the results with what you got from `statsmodels`."
   ]
  },
  {
   "cell_type": "code",
   "execution_count": 64,
   "metadata": {
    "collapsed": true
   },
   "outputs": [],
   "source": [
    "from sklearn.linear_model import LinearRegression\n",
    "from sklearn.metrics import mean_squared_error"
   ]
  },
  {
   "cell_type": "code",
   "execution_count": 65,
   "metadata": {
    "collapsed": false
   },
   "outputs": [
    {
     "data": {
      "text/plain": [
       "LinearRegression(copy_X=True, fit_intercept=True, n_jobs=1, normalize=False)"
      ]
     },
     "execution_count": 65,
     "metadata": {},
     "output_type": "execute_result"
    }
   ],
   "source": [
    "model = LinearRegression()\n",
    "Y = df['domestic_gross']\n",
    "X = df[['opening_weekend_take']]\n",
    "model.fit(X,Y)"
   ]
  },
  {
   "cell_type": "code",
   "execution_count": 66,
   "metadata": {
    "collapsed": false
   },
   "outputs": [
    {
     "data": {
      "text/plain": [
       "array([ 3.47337085])"
      ]
     },
     "execution_count": 66,
     "metadata": {},
     "output_type": "execute_result"
    }
   ],
   "source": [
    "model.coef_"
   ]
  },
  {
   "cell_type": "code",
   "execution_count": 67,
   "metadata": {
    "collapsed": false
   },
   "outputs": [
    {
     "data": {
      "text/plain": [
       "5397173.5691372827"
      ]
     },
     "execution_count": 67,
     "metadata": {},
     "output_type": "execute_result"
    }
   ],
   "source": [
    "model.intercept_"
   ]
  },
  {
   "cell_type": "code",
   "execution_count": 68,
   "metadata": {
    "collapsed": true
   },
   "outputs": [],
   "source": [
    "Y_pred = model.predict(X)"
   ]
  },
  {
   "cell_type": "code",
   "execution_count": 69,
   "metadata": {
    "collapsed": true
   },
   "outputs": [],
   "source": [
    "Y_true = Y"
   ]
  },
  {
   "cell_type": "code",
   "execution_count": 70,
   "metadata": {
    "collapsed": false
   },
   "outputs": [
    {
     "data": {
      "text/plain": [
       "884362197698914.25"
      ]
     },
     "execution_count": 70,
     "metadata": {},
     "output_type": "execute_result"
    }
   ],
   "source": [
    "mean_squared_error(Y_pred, Y_true)"
   ]
  }
 ],
 "metadata": {
  "kernelspec": {
   "display_name": "Python 2",
   "language": "python",
   "name": "python2"
  },
  "language_info": {
   "codemirror_mode": {
    "name": "ipython",
    "version": 2
   },
   "file_extension": ".py",
   "mimetype": "text/x-python",
   "name": "python",
   "nbconvert_exporter": "python",
   "pygments_lexer": "ipython2",
   "version": "2.7.11"
  }
 },
 "nbformat": 4,
 "nbformat_minor": 0
}
