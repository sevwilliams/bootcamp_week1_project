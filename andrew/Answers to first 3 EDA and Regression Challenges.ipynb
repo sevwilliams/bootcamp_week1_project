{
 "cells": [
  {
   "cell_type": "markdown",
   "metadata": {},
   "source": [
    "# Exploratory Data Analysis , Regression, Data Wrangling and Visualization Challenges\n",
    "\n",
    "We are going to explore some of this movie data. It comes from two\n",
    "separate sources, boxofficemojo.com and metacritic.com. The data is\n",
    "stored in files under directories related to these sources. The data\n",
    "for each movie is stored in its own file."
   ]
  },
  {
   "cell_type": "markdown",
   "metadata": {},
   "source": [
    "#### Challenge 1\n",
    "\n",
    "**First of all, before you do any of these challenges, start a *eda-and-reg* branch in your repository if you haven't done so already.** You will commit the additions you make while solving these challenges to that branch. In the end, you will submit your work by making a pull request.\n",
    "\n",
    "\n",
    "Start a new ipython notebook in the `project_1` directory. We will read the\n",
    "data from the boxofficemojo files. The files are in json format, which\n",
    "is a way to serialize key-value pairs. It looks exactly like how\n",
    "python shows the contents of a dictionary. For example,\n",
    "\n",
    "    {\"Ryan Gosling\": 9,\n",
    "    \"George Clooney\": 8,\n",
    "    \"Irmak Sirer\": 11}\n",
    "\n",
    "is a valid json format. (It can be more complex than that, for example\n",
    "the values might be nested lists, or more dictionaries, etc.)\n",
    "Import the `os` module to be able to modify/access filesystem\n",
    "commands, and the `json` module so we can parse these.\n",
    "\n",
    "    import os\n",
    "    import json\n",
    "\n",
    "the relative path to the data directory (since you are already in the\n",
    "`project_1` directory) is defined as `data/boxofficemojo/` in a Mac (or\n",
    "linux) system, and as `data\\boxofficemojo\\` in a Windows\n",
    "system. However, you don't need to know on what kind of system this\n",
    "will be run if you use the `os` module:\n",
    "\n",
    "    DATA_DIR = os.path.join('data', 'boxofficemojo')\n",
    "\n",
    "will put the correct path in `DATA_DIR`. `os.path.join` basically\n",
    "combines elements of a path in the correct way for the system.\n",
    "\n",
    "Let's say we know the filename to a specific file:\n",
    "`mojo_bladerunner.json`. You can get the path to it with\n",
    "\n",
    "    target_file_name = 'mojo_bladerunner.json'\n",
    "    target_file_path = os.path.join(DATA_DIR, target_file_name)\n",
    "\n",
    "Once a file is opened for reading, the `load` function from the `json`\n",
    "module will convert this string into a python dictionary:\n",
    "\n",
    "    with open(target_file_path, 'r') as target_file:\n",
    "        movie = json.load(target_file)\n",
    "\n",
    "Now `movie` is a dictionary. You can look at its contents with `print\n",
    "movie`, but a more readable pretty-print format is provided by the\n",
    "`pprint` module:\n",
    "\n",
    "    from pprint import pprint\n",
    "    pprint(movie)\n",
    "\n",
    "will show you the contents in a neatly organized way. You can learn\n",
    "more about each field in the README file within the data folder.\n",
    "\n",
    "You initial challenge is to make a single list of movies. Every\n",
    "single movie in that boxofficemojo directory should be a dictionary in this list. There is a single json file for each movie. Read all this information into a python dictionary, and put the dictionary into the list. When you do this for every movie, you will end up with one big list.\n",
    "Call this list `movies`. How many movies are there?\n",
    "\n",
    "Final hint: The `listdir` function from `os`  gives you a list of all\n",
    "filenames in a given directory."
   ]
  },
  {
   "cell_type": "code",
   "execution_count": 1,
   "metadata": {
    "collapsed": true
   },
   "outputs": [],
   "source": [
    "import os\n",
    "import json\n",
    "import pprint\n",
    "import numpy as np"
   ]
  },
  {
   "cell_type": "code",
   "execution_count": 2,
   "metadata": {
    "collapsed": false
   },
   "outputs": [
    {
     "data": {
      "text/plain": [
       "'/Users/jwesley/ipyntbks/cap1/challenges/challenge_1'"
      ]
     },
     "execution_count": 2,
     "metadata": {},
     "output_type": "execute_result"
    }
   ],
   "source": [
    "os.getcwd()"
   ]
  },
  {
   "cell_type": "code",
   "execution_count": 3,
   "metadata": {
    "collapsed": true
   },
   "outputs": [],
   "source": [
    "# CURRENT_DIR = os.path.dirname(os.path.realpath(__file__))\n",
    "CURRENT_DIR = os.getcwd()\n",
    "DATA_DIR = os.path.abspath(os.path.join(CURRENT_DIR, 'data'))\n",
    "MOJO_DIR = os.path.join(DATA_DIR, 'boxofficemojo')"
   ]
  },
  {
   "cell_type": "code",
   "execution_count": 4,
   "metadata": {
    "collapsed": false
   },
   "outputs": [
    {
     "data": {
      "text/plain": [
       "'/Users/jwesley/ipyntbks/cap1/challenges/challenge_1/data/boxofficemojo'"
      ]
     },
     "execution_count": 4,
     "metadata": {},
     "output_type": "execute_result"
    }
   ],
   "source": [
    "MOJO_DIR"
   ]
  },
  {
   "cell_type": "code",
   "execution_count": 5,
   "metadata": {
    "collapsed": true
   },
   "outputs": [],
   "source": [
    "def get_boxofficemojo_movies():\n",
    "    file_contents = os.listdir(MOJO_DIR)\n",
    "\n",
    "    movie_list = []\n",
    "\n",
    "    for filename in file_contents:\n",
    "        filepath = os.path.join(MOJO_DIR, filename)\n",
    "\n",
    "        with open(filepath, 'r') as movie_file:\n",
    "            movie_data = json.load(movie_file)\n",
    "\n",
    "        movie_list.append(movie_data)\n",
    "\n",
    "    print \"Parsed %i movies from %i files\" % (len(movie_list),\n",
    "                                              len(file_contents))\n",
    "    return movie_list"
   ]
  },
  {
   "cell_type": "code",
   "execution_count": 6,
   "metadata": {
    "collapsed": false
   },
   "outputs": [
    {
     "name": "stdout",
     "output_type": "stream",
     "text": [
      "Parsed 3728 movies from 3728 files\n"
     ]
    }
   ],
   "source": [
    "movies = get_boxofficemojo_movies()"
   ]
  },
  {
   "cell_type": "markdown",
   "metadata": {},
   "source": [
    "# 3728 movies."
   ]
  },
  {
   "cell_type": "markdown",
   "metadata": {},
   "source": [
    "#### Challenge 2\n",
    "\n",
    "What years are the movies from? Are they mostly recent? How far back\n",
    "do they go? In a new cell, make a list of years in the\n",
    "dataset. Extract the year field and put the year value for each movie\n",
    "into a single list. Let's call this list `movie_years`. Now we want to\n",
    "count the years. What we want is something like a dictionary, with\n",
    "each year as a key, and the corresponding value is the number of\n",
    "movies from that year in the dataset.\n",
    "\n",
    "Hint: Check out the `Counter` class from the `collections` module. You\n",
    "don't have to use it but it makes things pretty easy."
   ]
  },
  {
   "cell_type": "code",
   "execution_count": 7,
   "metadata": {
    "collapsed": false
   },
   "outputs": [
    {
     "data": {
      "text/plain": [
       "{u'alt_title': u'10,000 B.C. (2008)',\n",
       " u'director': u'Roland Emmerich',\n",
       " u'domestic_gross': 94784201,\n",
       " u'mojo_slug': u'10000bc',\n",
       " u'opening_per_theater': 10518,\n",
       " u'opening_weekend_take': 35867488,\n",
       " u'production_budget': 105000000,\n",
       " u'release_date_limited': None,\n",
       " u'release_date_wide': u'2008-03-07',\n",
       " u'title': u'10,000 B.C.',\n",
       " u'widest_release': 3454,\n",
       " u'worldwide_gross': 269784201,\n",
       " u'year': 2008}"
      ]
     },
     "execution_count": 7,
     "metadata": {},
     "output_type": "execute_result"
    }
   ],
   "source": [
    "movies[0]"
   ]
  },
  {
   "cell_type": "code",
   "execution_count": 8,
   "metadata": {
    "collapsed": false
   },
   "outputs": [
    {
     "data": {
      "text/plain": [
       "2008"
      ]
     },
     "execution_count": 8,
     "metadata": {},
     "output_type": "execute_result"
    }
   ],
   "source": [
    "movies[0]['year']"
   ]
  },
  {
   "cell_type": "code",
   "execution_count": 9,
   "metadata": {
    "collapsed": false
   },
   "outputs": [],
   "source": [
    "from collections import Counter\n",
    "years_list = [movie['year'] for movie in movies]"
   ]
  },
  {
   "cell_type": "code",
   "execution_count": 10,
   "metadata": {
    "collapsed": true
   },
   "outputs": [],
   "source": [
    "years = Counter(years_list)"
   ]
  },
  {
   "cell_type": "code",
   "execution_count": 11,
   "metadata": {
    "collapsed": false,
    "scrolled": true
   },
   "outputs": [
    {
     "data": {
      "text/plain": [
       "Counter({None: 7,\n",
       "         1933: 1,\n",
       "         1936: 1,\n",
       "         1937: 1,\n",
       "         1940: 1,\n",
       "         1946: 1,\n",
       "         1950: 1,\n",
       "         1951: 3,\n",
       "         1953: 1,\n",
       "         1956: 2,\n",
       "         1959: 1,\n",
       "         1960: 1,\n",
       "         1964: 1,\n",
       "         1967: 2,\n",
       "         1968: 2,\n",
       "         1969: 4,\n",
       "         1970: 6,\n",
       "         1971: 2,\n",
       "         1972: 4,\n",
       "         1974: 4,\n",
       "         1975: 3,\n",
       "         1976: 6,\n",
       "         1977: 4,\n",
       "         1978: 6,\n",
       "         1979: 9,\n",
       "         1980: 14,\n",
       "         1981: 12,\n",
       "         1982: 18,\n",
       "         1983: 19,\n",
       "         1984: 17,\n",
       "         1985: 13,\n",
       "         1986: 21,\n",
       "         1987: 27,\n",
       "         1988: 31,\n",
       "         1989: 29,\n",
       "         1990: 24,\n",
       "         1991: 24,\n",
       "         1992: 28,\n",
       "         1993: 39,\n",
       "         1994: 30,\n",
       "         1995: 51,\n",
       "         1996: 52,\n",
       "         1997: 74,\n",
       "         1998: 84,\n",
       "         1999: 106,\n",
       "         2000: 99,\n",
       "         2001: 108,\n",
       "         2002: 132,\n",
       "         2003: 146,\n",
       "         2004: 161,\n",
       "         2005: 164,\n",
       "         2006: 184,\n",
       "         2007: 190,\n",
       "         2008: 194,\n",
       "         2009: 192,\n",
       "         2010: 209,\n",
       "         2011: 264,\n",
       "         2012: 257,\n",
       "         2013: 308,\n",
       "         2014: 280,\n",
       "         2015: 53})"
      ]
     },
     "execution_count": 11,
     "metadata": {},
     "output_type": "execute_result"
    }
   ],
   "source": [
    "years"
   ]
  },
  {
   "cell_type": "code",
   "execution_count": 12,
   "metadata": {
    "collapsed": false
   },
   "outputs": [
    {
     "name": "stdout",
     "output_type": "stream",
     "text": [
      "None\n"
     ]
    }
   ],
   "source": [
    "print min(years.keys())"
   ]
  },
  {
   "cell_type": "code",
   "execution_count": 13,
   "metadata": {
    "collapsed": false
   },
   "outputs": [
    {
     "data": {
      "text/plain": [
       "1933"
      ]
     },
     "execution_count": 13,
     "metadata": {},
     "output_type": "execute_result"
    }
   ],
   "source": [
    "min([year for year in years.keys() if year != None])"
   ]
  },
  {
   "cell_type": "code",
   "execution_count": 14,
   "metadata": {
    "collapsed": false
   },
   "outputs": [
    {
     "data": {
      "text/plain": [
       "1933"
      ]
     },
     "execution_count": 14,
     "metadata": {},
     "output_type": "execute_result"
    }
   ],
   "source": [
    "year_set = []\n",
    "for year in years.keys():\n",
    "    if year != None:\n",
    "        year_set.append(year)\n",
    "min(year_set)"
   ]
  },
  {
   "cell_type": "code",
   "execution_count": 15,
   "metadata": {
    "collapsed": false
   },
   "outputs": [
    {
     "data": {
      "text/plain": [
       "2015"
      ]
     },
     "execution_count": 15,
     "metadata": {},
     "output_type": "execute_result"
    }
   ],
   "source": [
    "max([year for year in years.keys() if year != None])"
   ]
  },
  {
   "cell_type": "markdown",
   "metadata": {},
   "source": [
    "# The years go from 1933 to 2015."
   ]
  },
  {
   "cell_type": "markdown",
   "metadata": {},
   "source": [
    "#### Challenge 3\n",
    "\n",
    "Start a new cell. Pretty-printing the result of the previous challenge gives you a\n",
    "decent idea, but let's make a real histogram. Let's make sure ipython\n",
    "notebook shows the graphs inline and we import the necessary plotting\n",
    "stuff:\n",
    "\n",
    "    %matplotlib inline\n",
    "    import matplotlib.pyplot as plt\n",
    "\timport seaborn as sns\n",
    "\n",
    "The documentation for plotting a histogram with matplotlib is\n",
    "[here](http://matplotlib.org/api/pyplot_api.html#matplotlib.pyplot.hist),\n",
    "but it is basically as easy as doing\n",
    "\n",
    "    plt.hist(movie_years)\n",
    "\n",
    "but if you try this now you should get an error. What happened? It\n",
    "says `NoneType` in the error. If you look in carefully you might see\n",
    "that some of the years were `None` in `movie_years`. That's because\n",
    "year data was missing for a handful of movies on boxofficemojo, and\n",
    "the value is `None`. (How many of them are there?) Clean those out\n",
    "from your list of years and plot a histogram. Give it a title by\n",
    "adding a line\n",
    "\n",
    "    plt.title('Your title goes here\")\n",
    "\n",
    "Note: We imported seaborn but do not seem to use it. However, just the\n",
    "act of importing seaborn changes the harsh default color scheme and\n",
    "other visual settings of `matplotlib` and makes the plots made with it\n",
    "look better."
   ]
  },
  {
   "cell_type": "code",
   "execution_count": 16,
   "metadata": {
    "collapsed": true
   },
   "outputs": [],
   "source": [
    "%matplotlib inline\n",
    "import matplotlib.pyplot as plt\n",
    "import seaborn as sns"
   ]
  },
  {
   "cell_type": "code",
   "execution_count": 17,
   "metadata": {
    "collapsed": false,
    "scrolled": true
   },
   "outputs": [
    {
     "data": {
      "text/plain": [
       "Counter({1933: 1,\n",
       "         1936: 1,\n",
       "         1937: 1,\n",
       "         1940: 1,\n",
       "         1946: 1,\n",
       "         1950: 1,\n",
       "         1951: 3,\n",
       "         1953: 1,\n",
       "         1956: 2,\n",
       "         1959: 1,\n",
       "         1960: 1,\n",
       "         1964: 1,\n",
       "         1967: 2,\n",
       "         1968: 2,\n",
       "         1969: 4,\n",
       "         1970: 6,\n",
       "         1971: 2,\n",
       "         1972: 4,\n",
       "         1974: 4,\n",
       "         1975: 3,\n",
       "         1976: 6,\n",
       "         1977: 4,\n",
       "         1978: 6,\n",
       "         1979: 9,\n",
       "         1980: 14,\n",
       "         1981: 12,\n",
       "         1982: 18,\n",
       "         1983: 19,\n",
       "         1984: 17,\n",
       "         1985: 13,\n",
       "         1986: 21,\n",
       "         1987: 27,\n",
       "         1988: 31,\n",
       "         1989: 29,\n",
       "         1990: 24,\n",
       "         1991: 24,\n",
       "         1992: 28,\n",
       "         1993: 39,\n",
       "         1994: 30,\n",
       "         1995: 51,\n",
       "         1996: 52,\n",
       "         1997: 74,\n",
       "         1998: 84,\n",
       "         1999: 106,\n",
       "         2000: 99,\n",
       "         2001: 108,\n",
       "         2002: 132,\n",
       "         2003: 146,\n",
       "         2004: 161,\n",
       "         2005: 164,\n",
       "         2006: 184,\n",
       "         2007: 190,\n",
       "         2008: 194,\n",
       "         2009: 192,\n",
       "         2010: 209,\n",
       "         2011: 264,\n",
       "         2012: 257,\n",
       "         2013: 308,\n",
       "         2014: 280,\n",
       "         2015: 53})"
      ]
     },
     "execution_count": 17,
     "metadata": {},
     "output_type": "execute_result"
    }
   ],
   "source": [
    "years.pop(None)\n",
    "years"
   ]
  },
  {
   "cell_type": "code",
   "execution_count": 19,
   "metadata": {
    "collapsed": false
   },
   "outputs": [],
   "source": [
    "val, weight = zip(*[(k, v) for k,v in years.items()])"
   ]
  },
  {
   "cell_type": "code",
   "execution_count": 20,
   "metadata": {
    "collapsed": false
   },
   "outputs": [
    {
     "data": {
      "text/plain": [
       "<matplotlib.text.Text at 0x117ee37d0>"
      ]
     },
     "execution_count": 20,
     "metadata": {},
     "output_type": "execute_result"
    },
    {
     "data": {
      "image/png": "[encoded data removed]",
      "text/plain": [
       "<matplotlib.figure.Figure at 0x115b42310>"
      ]
     },
     "metadata": {},
     "output_type": "display_data"
    }
   ],
   "source": [
    "xvals, heights = zip(*[(k, v) for k,v in years.items()])\n",
    "plt.hist(xvals, weights=heights, bins=5)\n",
    "plt.xlabel('test')\n",
    "plt.ylabel('test y')"
   ]
  },
  {
   "cell_type": "markdown",
   "metadata": {},
   "source": [
    "## A simpler way to build the histogram:"
   ]
  },
  {
   "cell_type": "code",
   "execution_count": 21,
   "metadata": {
    "collapsed": true
   },
   "outputs": [],
   "source": [
    "years_list_2 = [movie['year'] for movie in movies if movie['year'] != None]"
   ]
  },
  {
   "cell_type": "code",
   "execution_count": 23,
   "metadata": {
    "collapsed": false
   },
   "outputs": [
    {
     "data": {
      "text/plain": [
       "(array([   1.,    1.,    1.,    0.,    1.,    0.,    0.,    1.,    0.,\n",
       "           0.,    4.,    0.,    1.,    0.,    2.,    1.,    1.,    0.,\n",
       "           1.,    0.,    2.,    6.,    6.,    6.,    0.,    7.,   10.,\n",
       "           6.,   23.,   30.,   19.,   30.,   48.,   31.,   53.,   52.,\n",
       "          39.,   81.,   52.,  158.,  205.,  108.,  278.,  325.,  184.,\n",
       "         384.,  401.,  264.,  565.,  333.]),\n",
       " array([ 1933.  ,  1934.64,  1936.28,  1937.92,  1939.56,  1941.2 ,\n",
       "         1942.84,  1944.48,  1946.12,  1947.76,  1949.4 ,  1951.04,\n",
       "         1952.68,  1954.32,  1955.96,  1957.6 ,  1959.24,  1960.88,\n",
       "         1962.52,  1964.16,  1965.8 ,  1967.44,  1969.08,  1970.72,\n",
       "         1972.36,  1974.  ,  1975.64,  1977.28,  1978.92,  1980.56,\n",
       "         1982.2 ,  1983.84,  1985.48,  1987.12,  1988.76,  1990.4 ,\n",
       "         1992.04,  1993.68,  1995.32,  1996.96,  1998.6 ,  2000.24,\n",
       "         2001.88,  2003.52,  2005.16,  2006.8 ,  2008.44,  2010.08,\n",
       "         2011.72,  2013.36,  2015.  ]),\n",
       " <a list of 50 Patch objects>)"
      ]
     },
     "execution_count": 23,
     "metadata": {},
     "output_type": "execute_result"
    },
    {
     "data": {
      "image/png": "[encoded data removed]",
      "text/plain": [
       "<matplotlib.figure.Figure at 0x115b421d0>"
      ]
     },
     "metadata": {},
     "output_type": "display_data"
    }
   ],
   "source": [
    "plt.hist(years_list_2, bins = 50)"
   ]
  }
 ],
 "metadata": {
  "kernelspec": {
   "display_name": "Python 2",
   "language": "python",
   "name": "python2"
  },
  "language_info": {
   "codemirror_mode": {
    "name": "ipython",
    "version": 2
   },
   "file_extension": ".py",
   "mimetype": "text/x-python",
   "name": "python",
   "nbconvert_exporter": "python",
   "pygments_lexer": "ipython2",
   "version": "2.7.11"
  }
 },
 "nbformat": 4,
 "nbformat_minor": 0
}
